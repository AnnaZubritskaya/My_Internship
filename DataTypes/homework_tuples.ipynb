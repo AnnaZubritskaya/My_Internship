{
 "cells": [
  {
   "cell_type": "code",
   "execution_count": 1,
   "id": "f82f3265-0427-4ddc-a45d-c1972d03289a",
   "metadata": {
    "editable": true,
    "slideshow": {
     "slide_type": ""
    },
    "tags": []
   },
   "outputs": [
    {
     "name": "stdout",
     "output_type": "stream",
     "text": [
      "hihellohey\n"
     ]
    }
   ],
   "source": [
    "#6. Write a Python program to convert a tuple to a string.\n",
    "\n",
    "mytuple=(\"hi\", \"hello\", \"hey\")\n",
    "str=\"\".join(mytuple)\n",
    "print(str)"
   ]
  },
  {
   "cell_type": "code",
   "execution_count": 8,
   "id": "b2453e57-b36a-407b-8c3a-fc0c04ed4be5",
   "metadata": {},
   "outputs": [
    {
     "name": "stdin",
     "output_type": "stream",
     "text": [
      "Input elemet:  hey\n"
     ]
    },
    {
     "name": "stdout",
     "output_type": "stream",
     "text": [
      "Yes, it exists\n"
     ]
    },
    {
     "name": "stdin",
     "output_type": "stream",
     "text": [
      "Input elemet:  hey\n"
     ]
    },
    {
     "name": "stdout",
     "output_type": "stream",
     "text": [
      "True\n"
     ]
    }
   ],
   "source": [
    "#10. Write a Python program to check whether an element exists within a tuple.\n",
    "\n",
    "def check_exist(el, mytuple):\n",
    "    for i in mytuple:\n",
    "        if el==i:\n",
    "            return(\"Yes, it exists\")\n",
    "    return(\"No, it doesn't exists\")\n",
    "\n",
    "mytuple=(\"hi\", \"hello\", \"hey\")\n",
    "el=input(\"Input elemet: \")\n",
    "print(check_exist(el, mytuple))            \n",
    "    \n",
    "#Second way\n",
    "mytuple=(\"hi\", \"hello\", \"hey\")\n",
    "el=input(\"Input elemet: \")\n",
    "print(el in mytuple)\n",
    "    "
   ]
  },
  {
   "cell_type": "code",
   "execution_count": 10,
   "id": "91debe54-2959-41a0-a613-1e7f42497436",
   "metadata": {},
   "outputs": [
    {
     "name": "stdout",
     "output_type": "stream",
     "text": [
      "('a', 'b', 'c', 'd')\n"
     ]
    }
   ],
   "source": [
    "#11. Write a Python program to convert a list to a tuple.\n",
    "mylist=[\"a\",\"b\",\"c\",\"d\"]\n",
    "mytuple = tuple(mylist)\n",
    "print(mytuple)"
   ]
  },
  {
   "cell_type": "code",
   "execution_count": 2,
   "id": "00c59dab-c8a2-43fc-abda-3e19ccd7e3bf",
   "metadata": {},
   "outputs": [
    {
     "name": "stdout",
     "output_type": "stream",
     "text": [
      "3\n"
     ]
    }
   ],
   "source": [
    "#24. Write a Python program to count the elements in a list until an element is a tuple.\n",
    "def count_el(mylist):\n",
    "    count=0\n",
    "    for i in mylist:\n",
    "        if isinstance(i, tuple):\n",
    "            break\n",
    "        else: \n",
    "            count+=1\n",
    "    return count\n",
    "\n",
    "print(count_el([10,20,30,(10,20),40]))"
   ]
  },
  {
   "cell_type": "code",
   "execution_count": null,
   "id": "a8c08f8d-4828-4a32-b730-1420768bf7c6",
   "metadata": {},
   "outputs": [],
   "source": []
  }
 ],
 "metadata": {
  "kernelspec": {
   "display_name": "Python 3 (ipykernel)",
   "language": "python",
   "name": "python3"
  },
  "language_info": {
   "codemirror_mode": {
    "name": "ipython",
    "version": 3
   },
   "file_extension": ".py",
   "mimetype": "text/x-python",
   "name": "python",
   "nbconvert_exporter": "python",
   "pygments_lexer": "ipython3",
   "version": "3.11.4"
  }
 },
 "nbformat": 4,
 "nbformat_minor": 5
}
