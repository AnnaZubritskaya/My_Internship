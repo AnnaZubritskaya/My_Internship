{
 "cells": [
  {
   "cell_type": "code",
   "execution_count": 1,
   "id": "65d340d9-b178-43e7-b286-d53be6693047",
   "metadata": {},
   "outputs": [
    {
     "name": "stdout",
     "output_type": "stream",
     "text": [
      "Twinkle, twinkle, little star, \n",
      "\t How I wonder what you are! \n",
      "\t\t Up above the world so high, \n",
      "\t\t Like a diamond in the sky. \n",
      " Twinkle, twinkle, little star, \n",
      "\t How I wonder what you are\n"
     ]
    }
   ],
   "source": [
    "\"\"\"\n",
    "Write a Python program to print the following string in a specific format (see the output).\n",
    "Sample String : \"Twinkle, twinkle, little star, How I wonder what you are! Up above the world so high, Like a diamond in the sky. Twinkle, twinkle, little star, How I wonder what you are\"\n",
    "Output :\n",
    "\n",
    "Twinkle, twinkle, little star,\n",
    "\tHow I wonder what you are! \n",
    "\t\tUp above the world so high,   \t\t\n",
    "\t\tLike a diamond in the sky. \n",
    "Twinkle, twinkle, little star, \n",
    "\tHow I wonder what you are\n",
    "\"\"\"\n",
    "\n",
    "print(\"Twinkle, twinkle, little star, \\n\\t How I wonder what you are! \\n\\t\\t Up above the world so high, \\n\\t\\t Like a diamond in the sky. \\n Twinkle, twinkle, little star, \\n\\t How I wonder what you are\")"
   ]
  },
  {
   "cell_type": "code",
   "execution_count": 4,
   "id": "596555ca-75c1-48a5-a95d-3f0f9a1a9b70",
   "metadata": {},
   "outputs": [
    {
     "name": "stdin",
     "output_type": "stream",
     "text": [
      "First name:  abc\n",
      "Last name:  bca\n"
     ]
    },
    {
     "name": "stdout",
     "output_type": "stream",
     "text": [
      "cba acb\n"
     ]
    }
   ],
   "source": [
    "#Write a Python program that accepts the user's first and last name and prints them in reverse order with a space between them.\n",
    "first=input(\"First name: \")\n",
    "last=input(\"Last name: \")\n",
    "print(first[::-1] + \" \" + last[::-1])"
   ]
  },
  {
   "cell_type": "code",
   "execution_count": 7,
   "id": "50961290-896e-42dc-8401-b6d387b58399",
   "metadata": {},
   "outputs": [
    {
     "name": "stdin",
     "output_type": "stream",
     "text": [
      "Input list:  3, 5, 7, 23\n",
      "Input tuple:  3, 5, 7, 23\n"
     ]
    },
    {
     "name": "stdout",
     "output_type": "stream",
     "text": [
      "['3', '5', '7', '23']\n",
      "('3', '5', '7', '23')\n"
     ]
    }
   ],
   "source": [
    "\"\"\"\n",
    "Write a Python program that accepts a sequence of comma-separated numbers from the user and generates a list and a tuple of those numbers.\n",
    "Sample data : 3, 5, 7, 23\n",
    "Output :\n",
    "List : ['3', ' 5', ' 7', ' 23']\n",
    "Tuple : ('3', ' 5', ' 7', ' 23')\n",
    "\"\"\"\n",
    "mylist=list(input(\"Input list: \").split(\", \"))\n",
    "mytuple=tuple(input(\"Input tuple: \").split(\", \"))\n",
    "\n",
    "print(mylist)\n",
    "print(mytuple)\n"
   ]
  },
  {
   "cell_type": "code",
   "execution_count": 9,
   "id": "e1b19554-3e83-49ec-99e1-77d779229355",
   "metadata": {},
   "outputs": [
    {
     "name": "stdout",
     "output_type": "stream",
     "text": [
      "Red Black\n"
     ]
    }
   ],
   "source": [
    "#Write a Python program to display the first and last colors from the following list.\n",
    "#color_list = [\"Red\",\"Green\",\"White\" ,\"Black\"]\n",
    "\n",
    "color_list = [\"Red\",\"Green\",\"White\" ,\"Black\"]\n",
    "print(color_list[0] + \" \" + color_list[-1])"
   ]
  },
  {
   "cell_type": "code",
   "execution_count": 11,
   "id": "97cab0a0-297d-45a0-8c91-7ae8a61a89c8",
   "metadata": {},
   "outputs": [
    {
     "name": "stdout",
     "output_type": "stream",
     "text": [
      "The examination will start from : 11 / 12 / 2014\n"
     ]
    }
   ],
   "source": [
    "\"\"\"\n",
    "Write a Python program to display the examination schedule. (extract the date from exam_st_date).\n",
    "exam_st_date = (11, 12, 2014)\n",
    "Sample Output : The examination will start from : 11 / 12 / 2014\n",
    "\"\"\"\n",
    "\n",
    "exam_st_date = (11,12,2014)\n",
    "print( \"The examination will start from : %i / %i / %i\"%exam_st_date)"
   ]
  },
  {
   "cell_type": "code",
   "execution_count": 14,
   "id": "dd020893-2e3b-4636-aeeb-6f383532b454",
   "metadata": {},
   "outputs": [
    {
     "name": "stdin",
     "output_type": "stream",
     "text": [
      "Input an integer:  5\n"
     ]
    },
    {
     "name": "stdout",
     "output_type": "stream",
     "text": [
      "615\n"
     ]
    }
   ],
   "source": [
    "\"\"\"\n",
    "Write a Python program that accepts an integer (n) and computes the value of n+nn+nnn.\n",
    "Sample value of n is 5\n",
    "Expected Result : 615\n",
    "\"\"\"\n",
    "n=int(input(\"Input an integer: \"))\n",
    "a=int(\"%s\" %n)\n",
    "b=int(\"%s%s\" %(n, n))\n",
    "c=int(\"%s%s%s\" %(n,n,n))\n",
    "print(a+b+c)"
   ]
  },
  {
   "cell_type": "code",
   "execution_count": 19,
   "id": "ae5a2571-9005-421e-b3b1-45dcb044910d",
   "metadata": {},
   "outputs": [
    {
     "name": "stdin",
     "output_type": "stream",
     "text": [
      "Your number:  19\n"
     ]
    },
    {
     "name": "stdout",
     "output_type": "stream",
     "text": [
      "4\n"
     ]
    }
   ],
   "source": [
    "#Write a Python program to calculate the difference between a given number and 17. If the number is greater than 17, return twice the absolute difference.\n",
    "number=int(input(\"Your number: \"))\n",
    "def mydifference(n):\n",
    "    diff=abs(17-n)\n",
    "    if n>17: return diff**2\n",
    "    return diff\n",
    "\n",
    "print(mydifference(number))"
   ]
  },
  {
   "cell_type": "code",
   "execution_count": 25,
   "id": "39de512d-d64f-408e-bdeb-910863d1b678",
   "metadata": {},
   "outputs": [
    {
     "name": "stdin",
     "output_type": "stream",
     "text": [
      "Your fisrt number:  1\n",
      "Your second number:  2\n",
      "Your third number:  1\n"
     ]
    },
    {
     "name": "stdout",
     "output_type": "stream",
     "text": [
      "4\n"
     ]
    }
   ],
   "source": [
    "#Write a Python program to calculate the sum of three given numbers. If the values are equal, return three times their sum.\n",
    "number1=int(input(\"Your fisrt number: \"))\n",
    "number2=int(input(\"Your second number: \"))\n",
    "number3=int(input(\"Your third number: \"))\n",
    "\n",
    "def calculate_sum(a,b,c):\n",
    "    if a==b and a==c:\n",
    "        return (a+b+c)*3\n",
    "    return a+b+c\n",
    "\n",
    "print(calculate_sum(number1, number2, number3))"
   ]
  },
  {
   "cell_type": "code",
   "execution_count": null,
   "id": "a39497f6-14f3-4078-bd3a-6d02e4c39754",
   "metadata": {},
   "outputs": [],
   "source": []
  }
 ],
 "metadata": {
  "kernelspec": {
   "display_name": "Python 3 (ipykernel)",
   "language": "python",
   "name": "python3"
  },
  "language_info": {
   "codemirror_mode": {
    "name": "ipython",
    "version": 3
   },
   "file_extension": ".py",
   "mimetype": "text/x-python",
   "name": "python",
   "nbconvert_exporter": "python",
   "pygments_lexer": "ipython3",
   "version": "3.11.4"
  }
 },
 "nbformat": 4,
 "nbformat_minor": 5
}
