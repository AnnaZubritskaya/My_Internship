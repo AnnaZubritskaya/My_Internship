{
 "cells": [
  {
   "cell_type": "code",
   "execution_count": 1,
   "id": "4a119a92-a517-4557-96fc-7151db970970",
   "metadata": {},
   "outputs": [
    {
     "name": "stdout",
     "output_type": "stream",
     "text": [
      "5\n"
     ]
    }
   ],
   "source": [
    "#Write a Python program to calculate the length of a string.\n",
    "def calc_len(str):\n",
    "    count=0\n",
    "    for i in str:\n",
    "        count+=1\n",
    "    return count\n",
    "\n",
    "print(calc_len(\"hello\"))\n",
    "\n"
   ]
  },
  {
   "cell_type": "code",
   "execution_count": 16,
   "id": "52e32355-05c4-4cfe-b624-825bd1c5a8b4",
   "metadata": {},
   "outputs": [
    {
     "name": "stdout",
     "output_type": "stream",
     "text": [
      "w3ce\n",
      "w3w3\n",
      " w w\n"
     ]
    }
   ],
   "source": [
    "\"\"\"\n",
    "Write a Python program to get a string made of the first 2 and last 2 characters of a given string. If the string length is less than 2, return the empty string instead.\n",
    "Sample String : 'w3resource'\n",
    "Expected Result : 'w3ce'\n",
    "Sample String : 'w3'\n",
    "Expected Result : 'w3w3'\n",
    "Sample String : ' w'\n",
    "Expected Result : Empty String\n",
    "\"\"\"\n",
    "\n",
    "def make_str(str):\n",
    "    newstr=\"\"\n",
    "    if len(str)<2: \n",
    "        return \"\"\n",
    "    else: \n",
    "        newstr=str[0:2]+str[-2:]\n",
    "        return newstr\n",
    "\n",
    "print(make_str('w3resource'))\n",
    "print(make_str('w3w3'))\n",
    "print(make_str(' w'))"
   ]
  },
  {
   "cell_type": "code",
   "execution_count": 23,
   "id": "8d73d1da-7ddb-41b4-bfb3-841689c2c794",
   "metadata": {},
   "outputs": [
    {
     "name": "stdout",
     "output_type": "stream",
     "text": [
      "b,a,c y x z\n"
     ]
    }
   ],
   "source": [
    "\"\"\"\n",
    "Write a Python program to get a single string from two given strings, separated by a space and swap the first two characters of each string.\n",
    "Sample String : 'abc', 'xyz'\n",
    "Expected Result : 'xyc abz'\n",
    "\"\"\"\n",
    "a='abc'\n",
    "b='xyz'\n",
    "\n",
    "def make_new(str1, str2):\n",
    "    mylist=list(str1)\n",
    "    a = mylist[0]\n",
    "    b = mylist[1]\n",
    "    mylist[0]=b\n",
    "    mylist[1]=a\n",
    "    str1=\",\".join(mylist)\n",
    "\n",
    "    mylist=list(str2)\n",
    "    a = mylist[0]\n",
    "    b = mylist[1]\n",
    "    mylist[0]=b\n",
    "    mylist[1]=a\n",
    "    str2=\" \".join(mylist)\n",
    "    return str1+\" \" + str2\n",
    "\n",
    "print(make_new(a,b))\n",
    "    "
   ]
  },
  {
   "cell_type": "code",
   "execution_count": null,
   "id": "bfe3b957-fbdf-4f70-a920-e631eb763610",
   "metadata": {},
   "outputs": [],
   "source": [
    "\"\"\"\n",
    "Write a Python function to create an HTML string with tags around the word(s).\n",
    "Sample function and result :\n",
    "add_tags('i', 'Python') -> '<i>Python</i>'\n",
    "add_tags('b', 'Python Tutorial') -> '<b>Python Tutorial </b>'\n",
    "\"\"\""
   ]
  }
 ],
 "metadata": {
  "kernelspec": {
   "display_name": "Python 3 (ipykernel)",
   "language": "python",
   "name": "python3"
  },
  "language_info": {
   "codemirror_mode": {
    "name": "ipython",
    "version": 3
   },
   "file_extension": ".py",
   "mimetype": "text/x-python",
   "name": "python",
   "nbconvert_exporter": "python",
   "pygments_lexer": "ipython3",
   "version": "3.11.4"
  }
 },
 "nbformat": 4,
 "nbformat_minor": 5
}
