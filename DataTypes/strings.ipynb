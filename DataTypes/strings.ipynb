{
 "cells": [
  {
   "cell_type": "code",
   "execution_count": 1,
   "id": "85f114de-69c8-4f3c-998c-ebbff0f15caa",
   "metadata": {},
   "outputs": [
    {
     "name": "stdout",
     "output_type": "stream",
     "text": [
      "A Computer Science portal for geeks\n"
     ]
    }
   ],
   "source": [
    "print(\"A Computer Science portal for geeks\")"
   ]
  },
  {
   "cell_type": "code",
   "execution_count": 2,
   "id": "bc906cc9-7913-4c3f-9ac0-7bd1ce36e64f",
   "metadata": {},
   "outputs": [
    {
     "name": "stdout",
     "output_type": "stream",
     "text": [
      "String with the use of Single Quotes: \n",
      "Welcome to the Geeks World\n",
      "\n",
      "String with the use of Double Quotes: \n",
      "I'm a Geek\n",
      "\n",
      "String with the use of Triple Quotes: \n",
      "I'm a Geek and I live in a world of \"Geeks\"\n",
      "\n",
      "Creating a multiline String: \n",
      "Geeks\n",
      "\t\t\tFor\n",
      "\t\t\tLife\n"
     ]
    }
   ],
   "source": [
    "# Python Program for\n",
    "# Creation of String\n",
    "\n",
    "# Creating a String\n",
    "# with single Quotes\n",
    "String1 = 'Welcome to the Geeks World'\n",
    "print(\"String with the use of Single Quotes: \")\n",
    "print(String1)\n",
    "\n",
    "# Creating a String\n",
    "# with double Quotes\n",
    "String1 = \"I'm a Geek\"\n",
    "print(\"\\nString with the use of Double Quotes: \")\n",
    "print(String1)\n",
    "\n",
    "# Creating a String\n",
    "# with triple Quotes\n",
    "String1 = '''I'm a Geek and I live in a world of \"Geeks\"'''\n",
    "print(\"\\nString with the use of Triple Quotes: \")\n",
    "print(String1)\n",
    "\n",
    "# Creating String with triple\n",
    "# Quotes allows multiple lines\n",
    "String1 = '''Geeks\n",
    "\t\t\tFor\n",
    "\t\t\tLife'''\n",
    "print(\"\\nCreating a multiline String: \")\n",
    "print(String1)"
   ]
  },
  {
   "cell_type": "code",
   "execution_count": 3,
   "id": "0f89db42-1e0f-4cf8-9e83-6f2304ba2368",
   "metadata": {},
   "outputs": [
    {
     "name": "stdout",
     "output_type": "stream",
     "text": [
      "Initial String: \n",
      "GeeksForGeeks\n",
      "\n",
      "First character of String is: \n",
      "G\n",
      "\n",
      "Last character of String is: \n",
      "s\n"
     ]
    }
   ],
   "source": [
    "# Python Program to Access\n",
    "# characters of String\n",
    "\n",
    "String1 = \"GeeksForGeeks\"\n",
    "print(\"Initial String: \")\n",
    "print(String1)\n",
    "\n",
    "# Printing First character\n",
    "print(\"\\nFirst character of String is: \")\n",
    "print(String1[0])\n",
    "\n",
    "# Printing Last character\n",
    "print(\"\\nLast character of String is: \")\n",
    "print(String1[-1])\n"
   ]
  },
  {
   "cell_type": "code",
   "execution_count": 4,
   "id": "61f732dc-cd1c-4315-b83f-e4262950f4c3",
   "metadata": {},
   "outputs": [
    {
     "name": "stdout",
     "output_type": "stream",
     "text": [
      "skeegrofskeeg\n"
     ]
    }
   ],
   "source": [
    "#Program to reverse a string\n",
    "gfg = \"geeksforgeeks\"\n",
    "print(gfg[::-1])\n"
   ]
  },
  {
   "cell_type": "code",
   "execution_count": 5,
   "id": "459ff27c-1b09-4a57-80de-ad2c367fbfce",
   "metadata": {},
   "outputs": [
    {
     "name": "stdout",
     "output_type": "stream",
     "text": [
      "skeegrofskeeg\n"
     ]
    }
   ],
   "source": [
    "# Program to reverse a string\n",
    "\n",
    "gfg = \"geeksforgeeks\"\n",
    "\n",
    "# Reverse the string using reversed and join function\n",
    "gfg = \"\".join(reversed(gfg))\n",
    "\n",
    "print(gfg)\n"
   ]
  },
  {
   "cell_type": "code",
   "execution_count": 6,
   "id": "52b4efe4-b851-45cf-b892-7a47fae7a27e",
   "metadata": {},
   "outputs": [
    {
     "name": "stdout",
     "output_type": "stream",
     "text": [
      "Initial String: \n",
      "GeeksForGeeks\n",
      "\n",
      "Slicing characters from 3-12: \n",
      "ksForGeek\n",
      "\n",
      "Slicing characters between 3rd and 2nd last character: \n",
      "ksForGee\n"
     ]
    }
   ],
   "source": [
    "# Python Program to\n",
    "# demonstrate String slicing\n",
    "\n",
    "# Creating a String\n",
    "String1 = \"GeeksForGeeks\"\n",
    "print(\"Initial String: \")\n",
    "print(String1)\n",
    "\n",
    "# Printing 3rd to 12th character\n",
    "print(\"\\nSlicing characters from 3-12: \")\n",
    "print(String1[3:12])\n",
    "\n",
    "# Printing characters between\n",
    "# 3rd and 2nd last character\n",
    "print(\"\\nSlicing characters between \" +\n",
    "\t\"3rd and 2nd last character: \")\n",
    "print(String1[3:-2])\n"
   ]
  },
  {
   "cell_type": "code",
   "execution_count": 7,
   "id": "72c0c7bd-9a2a-4c9c-abb1-5870b9fa003b",
   "metadata": {},
   "outputs": [
    {
     "name": "stdout",
     "output_type": "stream",
     "text": [
      "Initial String: \n",
      "Hello, I'm a Geek\n",
      "\n",
      "Updating character at 2nd Index: \n",
      "Heplo, I'm a Geek\n",
      "Heplo, I'm a Geek\n"
     ]
    }
   ],
   "source": [
    "# Python Program to Update\n",
    "# character of a String\n",
    "\n",
    "String1 = \"Hello, I'm a Geek\"\n",
    "print(\"Initial String: \")\n",
    "print(String1)\n",
    "\n",
    "# Updating a character of the String\n",
    "## As python strings are immutable, they don't support item updation directly\n",
    "### there are following two ways\n",
    "#1\n",
    "list1 = list(String1)\n",
    "list1[2] = 'p'\n",
    "String2 = ''.join(list1)\n",
    "print(\"\\nUpdating character at 2nd Index: \")\n",
    "print(String2)\n",
    "\n",
    "#2\n",
    "String3 = String1[0:2] + 'p' + String1[3:]\n",
    "print(String3)\n"
   ]
  },
  {
   "cell_type": "code",
   "execution_count": 8,
   "id": "44926184-be30-4dfb-a553-919ca2175a43",
   "metadata": {},
   "outputs": [
    {
     "name": "stdout",
     "output_type": "stream",
     "text": [
      "Initial String: \n",
      "Hello, I'm a Geek\n",
      "\n",
      "Updated String: \n",
      "Welcome to the Geek World\n"
     ]
    }
   ],
   "source": [
    "# Python Program to Update\n",
    "# entire String\n",
    "\n",
    "String1 = \"Hello, I'm a Geek\"\n",
    "print(\"Initial String: \")\n",
    "print(String1)\n",
    "\n",
    "# Updating a String\n",
    "String1 = \"Welcome to the Geek World\"\n",
    "print(\"\\nUpdated String: \")\n",
    "print(String1)\n"
   ]
  },
  {
   "cell_type": "code",
   "execution_count": 9,
   "id": "3bd4468f-98d9-4120-8d33-9bc34d62cb7a",
   "metadata": {},
   "outputs": [
    {
     "name": "stdout",
     "output_type": "stream",
     "text": [
      "Initial String: \n",
      "Hello, I'm a Geek\n",
      "\n",
      "Deleting character at 2nd Index: \n",
      "Helo, I'm a Geek\n"
     ]
    }
   ],
   "source": [
    "# Python Program to Delete\n",
    "# characters from a String\n",
    "\n",
    "String1 = \"Hello, I'm a Geek\"\n",
    "print(\"Initial String: \")\n",
    "print(String1)\n",
    "\n",
    "# Deleting a character\n",
    "# of the String\n",
    "String2 = String1[0:2] + String1[3:]\n",
    "print(\"\\nDeleting character at 2nd Index: \")\n",
    "print(String2)\n"
   ]
  },
  {
   "cell_type": "code",
   "execution_count": 10,
   "id": "2fa184a0-0075-4a75-aa0e-995262eade76",
   "metadata": {},
   "outputs": [
    {
     "name": "stdout",
     "output_type": "stream",
     "text": [
      "Initial String: \n",
      "Hello, I'm a Geek\n",
      "\n",
      "Deleting entire String: \n"
     ]
    },
    {
     "ename": "NameError",
     "evalue": "name 'String1' is not defined",
     "output_type": "error",
     "traceback": [
      "\u001b[1;31m---------------------------------------------------------------------------\u001b[0m",
      "\u001b[1;31mNameError\u001b[0m                                 Traceback (most recent call last)",
      "Cell \u001b[1;32mIn[10], line 12\u001b[0m\n\u001b[0;32m     10\u001b[0m \u001b[38;5;28;01mdel\u001b[39;00m String1\n\u001b[0;32m     11\u001b[0m \u001b[38;5;28mprint\u001b[39m(\u001b[38;5;124m\"\u001b[39m\u001b[38;5;130;01m\\n\u001b[39;00m\u001b[38;5;124mDeleting entire String: \u001b[39m\u001b[38;5;124m\"\u001b[39m)\n\u001b[1;32m---> 12\u001b[0m \u001b[38;5;28mprint\u001b[39m(\u001b[43mString1\u001b[49m)\n",
      "\u001b[1;31mNameError\u001b[0m: name 'String1' is not defined"
     ]
    }
   ],
   "source": [
    "# Python Program to Delete\n",
    "# entire String\n",
    "\n",
    "String1 = \"Hello, I'm a Geek\"\n",
    "print(\"Initial String: \")\n",
    "print(String1)\n",
    "\n",
    "# Deleting a String\n",
    "# with the use of del\n",
    "del String1\n",
    "print(\"\\nDeleting entire String: \")\n",
    "print(String1)\n"
   ]
  },
  {
   "cell_type": "code",
   "execution_count": 11,
   "id": "621def2b-d972-4d8d-a033-6fbe27a5d7de",
   "metadata": {},
   "outputs": [
    {
     "name": "stdout",
     "output_type": "stream",
     "text": [
      "Initial String with use of Triple Quotes: \n",
      "I'm a \"Geek\"\n",
      "\n",
      "Escaping Single Quote: \n",
      "I'm a \"Geek\"\n",
      "\n",
      "Escaping Double Quotes: \n",
      "I'm a \"Geek\"\n",
      "\n",
      "Escaping Backslashes: \n",
      "C:\\Python\\Geeks\\\n",
      "\n",
      "Tab: \n",
      "Hi\tGeeks\n",
      "\n",
      "New Line: \n",
      "Python\n",
      "Geeks\n"
     ]
    }
   ],
   "source": [
    "# Python Program for\n",
    "# Escape Sequencing\n",
    "# of String\n",
    "\n",
    "# Initial String\n",
    "String1 = '''I'm a \"Geek\"'''\n",
    "print(\"Initial String with use of Triple Quotes: \")\n",
    "print(String1)\n",
    "\n",
    "# Escaping Single Quote\n",
    "String1 = 'I\\'m a \"Geek\"'\n",
    "print(\"\\nEscaping Single Quote: \")\n",
    "print(String1)\n",
    "\n",
    "# Escaping Double Quotes\n",
    "String1 = \"I'm a \\\"Geek\\\"\"\n",
    "print(\"\\nEscaping Double Quotes: \")\n",
    "print(String1)\n",
    "\n",
    "# Printing Paths with the\n",
    "# use of Escape Sequences\n",
    "String1 = \"C:\\\\Python\\\\Geeks\\\\\"\n",
    "print(\"\\nEscaping Backslashes: \")\n",
    "print(String1)\n",
    "\n",
    "# Printing Paths with the\n",
    "# use of Tab\n",
    "String1 = \"Hi\\tGeeks\"\n",
    "print(\"\\nTab: \")\n",
    "print(String1)\n",
    "\n",
    "# Printing Paths with the\n",
    "# use of New Line\n",
    "String1 = \"Python\\nGeeks\"\n",
    "print(\"\\nNew Line: \")\n",
    "print(String1)\n"
   ]
  },
  {
   "cell_type": "code",
   "execution_count": 12,
   "id": "ff0c2d5f-6142-4504-a16a-f7c63d5c47b4",
   "metadata": {},
   "outputs": [
    {
     "name": "stdout",
     "output_type": "stream",
     "text": [
      "\n",
      "Printing in Octal with the use of Escape Sequences: \n",
      "Hello\n",
      "\n",
      "Printing Raw String in Octal Format: \n",
      "This is \\110\\145\\154\\154\\157\n",
      "\n",
      "Printing in HEX with the use of Escape Sequences: \n",
      "This is Geeks in HEX\n",
      "\n",
      "Printing Raw String in HEX Format: \n",
      "This is \\x47\\x65\\x65\\x6b\\x73 in \\x48\\x45\\x58\n"
     ]
    }
   ],
   "source": [
    "# Printing hello in octal\n",
    "String1 = \"\\110\\145\\154\\154\\157\"\n",
    "print(\"\\nPrinting in Octal with the use of Escape Sequences: \")\n",
    "print(String1)\n",
    "\n",
    "# Using raw String to\n",
    "# ignore Escape Sequences\n",
    "String1 = r\"This is \\110\\145\\154\\154\\157\"\n",
    "print(\"\\nPrinting Raw String in Octal Format: \")\n",
    "print(String1)\n",
    "\n",
    "# Printing Geeks in HEX\n",
    "String1 = \"This is \\x47\\x65\\x65\\x6b\\x73 in \\x48\\x45\\x58\"\n",
    "print(\"\\nPrinting in HEX with the use of Escape Sequences: \")\n",
    "print(String1)\n",
    "\n",
    "# Using raw String to\n",
    "# ignore Escape Sequences\n",
    "String1 = r\"This is \\x47\\x65\\x65\\x6b\\x73 in \\x48\\x45\\x58\"\n",
    "print(\"\\nPrinting Raw String in HEX Format: \")\n",
    "print(String1)\n"
   ]
  },
  {
   "cell_type": "code",
   "execution_count": 13,
   "id": "6a657e4f-d9ff-4893-98b4-1315dff0cdbf",
   "metadata": {},
   "outputs": [
    {
     "name": "stdout",
     "output_type": "stream",
     "text": [
      "Print String in default order: \n",
      "Geeks For Life\n",
      "\n",
      "Print String in Positional order: \n",
      "For Geeks Life\n",
      "\n",
      "Print String in order of Keywords: \n",
      "Life For Geeks\n"
     ]
    }
   ],
   "source": [
    "# Python Program for\n",
    "# Formatting of Strings\n",
    "\n",
    "# Default order\n",
    "String1 = \"{} {} {}\".format('Geeks', 'For', 'Life')\n",
    "print(\"Print String in default order: \")\n",
    "print(String1)\n",
    "\n",
    "# Positional Formatting\n",
    "String1 = \"{1} {0} {2}\".format('Geeks', 'For', 'Life')\n",
    "print(\"\\nPrint String in Positional order: \")\n",
    "print(String1)\n",
    "\n",
    "# Keyword Formatting\n",
    "String1 = \"{l} {f} {g}\".format(g='Geeks', f='For', l='Life')\n",
    "print(\"\\nPrint String in order of Keywords: \")\n",
    "print(String1)\n"
   ]
  },
  {
   "cell_type": "code",
   "execution_count": 14,
   "id": "98b6f720-f7b4-4fed-8963-66e605779b96",
   "metadata": {},
   "outputs": [
    {
     "name": "stdout",
     "output_type": "stream",
     "text": [
      "\n",
      "Binary representation of 16 is \n",
      "10000\n",
      "\n",
      "Exponent representation of 165.6458 is \n",
      "1.656458e+02\n",
      "\n",
      "one-sixth is : \n",
      "0.17\n"
     ]
    }
   ],
   "source": [
    "# Formatting of Integers\n",
    "String1 = \"{0:b}\".format(16)\n",
    "print(\"\\nBinary representation of 16 is \")\n",
    "print(String1)\n",
    "\n",
    "# Formatting of Floats\n",
    "String1 = \"{0:e}\".format(165.6458)\n",
    "print(\"\\nExponent representation of 165.6458 is \")\n",
    "print(String1)\n",
    "\n",
    "# Rounding off Integers\n",
    "String1 = \"{0:.2f}\".format(1/6)\n",
    "print(\"\\none-sixth is : \")\n",
    "print(String1)\n"
   ]
  },
  {
   "cell_type": "code",
   "execution_count": 15,
   "id": "0bc2b4ac-2d6d-42b1-b32e-5c3e89c9744f",
   "metadata": {},
   "outputs": [
    {
     "name": "stdout",
     "output_type": "stream",
     "text": [
      "\n",
      "Left, center and right alignment with Formatting: \n",
      "|Geeks     |   for    |     Geeks|\n",
      "\n",
      " GeeksforGeeks   was founded in 2009!\n"
     ]
    }
   ],
   "source": [
    "# String alignment\n",
    "String1 = \"|{:<10}|{:^10}|{:>10}|\".format('Geeks',\n",
    "\t\t\t\t\t\t\t\t\t\t'for',\n",
    "\t\t\t\t\t\t\t\t\t\t'Geeks')\n",
    "print(\"\\nLeft, center and right alignment with Formatting: \")\n",
    "print(String1)\n",
    "\n",
    "# To demonstrate aligning of spaces\n",
    "String1 = \"\\n{0:^16} was founded in {1:<4}!\".format(\"GeeksforGeeks\",\n",
    "\t\t\t\t\t\t\t\t\t\t\t\t\t2009)\n",
    "print(String1)\n"
   ]
  },
  {
   "cell_type": "code",
   "execution_count": 16,
   "id": "bee9b435-9d8e-4015-a81a-6adc22726a37",
   "metadata": {},
   "outputs": [
    {
     "name": "stdout",
     "output_type": "stream",
     "text": [
      "Formatting in 3.2f format: \n",
      "The value of Integer1 is 12.35\n",
      "\n",
      "Formatting in 3.4f format: \n",
      "The value of Integer1 is 12.3457\n"
     ]
    }
   ],
   "source": [
    "# Python Program for\n",
    "# Old Style Formatting\n",
    "# of Integers\n",
    "\n",
    "Integer1 = 12.3456789\n",
    "print(\"Formatting in 3.2f format: \")\n",
    "print('The value of Integer1 is %3.2f' % Integer1)\n",
    "print(\"\\nFormatting in 3.4f format: \")\n",
    "print('The value of Integer1 is %3.4f' % Integer1)\n"
   ]
  },
  {
   "cell_type": "code",
   "execution_count": null,
   "id": "c4e8a282-a6ce-49cf-8338-21b3e3589c60",
   "metadata": {},
   "outputs": [],
   "source": []
  }
 ],
 "metadata": {
  "kernelspec": {
   "display_name": "Python 3 (ipykernel)",
   "language": "python",
   "name": "python3"
  },
  "language_info": {
   "codemirror_mode": {
    "name": "ipython",
    "version": 3
   },
   "file_extension": ".py",
   "mimetype": "text/x-python",
   "name": "python",
   "nbconvert_exporter": "python",
   "pygments_lexer": "ipython3",
   "version": "3.11.4"
  }
 },
 "nbformat": 4,
 "nbformat_minor": 5
}
