{
 "cells": [
  {
   "cell_type": "code",
   "execution_count": 9,
   "id": "da4835ad-4e61-47aa-a6ec-6ff3cd7dbc88",
   "metadata": {},
   "outputs": [
    {
     "name": "stdout",
     "output_type": "stream",
     "text": [
      "abcing\n",
      "stringly\n"
     ]
    }
   ],
   "source": [
    "\"\"\"\n",
    "6. Write a Python program to add 'ing' at the end of a given string (length should be at least 3). If the given string already ends with 'ing', add 'ly' instead. \n",
    "If the string length of the given string is less than 3, leave it unchanged.\n",
    "Sample String : 'abc'\n",
    "Expected Result : 'abcing'\n",
    "Sample String : 'string'\n",
    "Expected Result : 'stringly'\n",
    "\"\"\"\n",
    "\n",
    "def change_str(str):\n",
    "    if len(str)<3: \n",
    "        return str\n",
    "    else:\n",
    "        if str[-3:]==\"ing\":\n",
    "            str+=\"ly\"\n",
    "        else: \n",
    "            str+=\"ing\"\n",
    "    return str\n",
    "\n",
    "print(change_str(\"abc\"))\n",
    "print(change_str(\"string\"))"
   ]
  },
  {
   "cell_type": "code",
   "execution_count": 11,
   "id": "f322b288-1795-452b-a6b3-f9a44a303d5a",
   "metadata": {},
   "outputs": [
    {
     "name": "stdout",
     "output_type": "stream",
     "text": [
      "The lyrics is good!\n",
      "The lyrics is poor!\n"
     ]
    }
   ],
   "source": [
    "\"\"\"\n",
    "7. Write a Python program to find the first appearance of the substrings 'not' and 'poor' in a given string. \n",
    "If 'not' follows 'poor', replace the whole 'not'...'poor' substring with 'good'. Return the resulting string.\n",
    "Sample String : 'The lyrics is not that poor!'\n",
    "'The lyrics is poor!'\n",
    "Expected Result : 'The lyrics is good!'\n",
    "'The lyrics is poor!'\n",
    "\"\"\"\n",
    "\n",
    "def replace_sub(str):\n",
    "  for_not = str.find('not')\n",
    "  for_poor = str.find('poor')\n",
    "  \n",
    "  if for_poor > for_not and for_not > 0 and for_poor > 0:\n",
    "    str = str.replace(str[for_not:(for_poor+4)], 'good')\n",
    "    return str\n",
    "  else:\n",
    "    return str\n",
    "      \n",
    "print(replace_sub('The lyrics is not that poor!'))\n",
    "print(replace_sub('The lyrics is poor!'))\n",
    "\n"
   ]
  },
  {
   "cell_type": "code",
   "execution_count": 14,
   "id": "8ee1396c-7752-41b1-ae3e-da11497a812b",
   "metadata": {},
   "outputs": [
    {
     "name": "stdout",
     "output_type": "stream",
     "text": [
      "Longest word: exercises\n",
      "Length of the longest word: 9\n"
     ]
    }
   ],
   "source": [
    "\"\"\"\n",
    "8. Write a Python function that takes a list of words and return the longest word and the length of the longest one.\n",
    "Sample Output:\n",
    "Longest word: Exercises\n",
    "Length of the longest word: 9\n",
    "\"\"\"\n",
    "def longest_word(mylist):\n",
    "    longest=mylist[0]\n",
    "    for i in mylist:\n",
    "        if len(i)>len(longest):\n",
    "            longest=i\n",
    "    return \"Longest word: \" + longest + \"\\nLength of the longest word: \" + str(len(longest))\n",
    "\n",
    "print(longest_word([\"one\", \"place\", \"exercises\", \"sport\"]))"
   ]
  },
  {
   "cell_type": "code",
   "execution_count": 17,
   "id": "b7f5c49a-599d-4a24-a2c9-17b5dbbfb22e",
   "metadata": {},
   "outputs": [
    {
     "name": "stdout",
     "output_type": "stream",
     "text": [
      "oelh\n",
      "dbca\n",
      "52341\n"
     ]
    }
   ],
   "source": [
    "#10. Write a Python program to change a given string to a newly string where the first and last chars have been exchanged.\n",
    "\n",
    "def swap_chars(str):\n",
    "    a=str[0]\n",
    "    b=str[-1]\n",
    "    str=b+str[1:-2]+a\n",
    "    return str\n",
    "\n",
    "print(swap_chars(\"hello\"))\n",
    "\n",
    "#Second solution\n",
    "def change_sring(str1):\n",
    "      return str1[-1] + str1[1:-1] + str1[0]\n",
    "\t  \n",
    "print(change_sring('abcd'))\n",
    "print(change_sring('12345'))"
   ]
  },
  {
   "cell_type": "code",
   "execution_count": 19,
   "id": "e7081cee-c76d-4690-82cc-fb6263ebe140",
   "metadata": {},
   "outputs": [
    {
     "name": "stdout",
     "output_type": "stream",
     "text": [
      "ace\n",
      "pto\n"
     ]
    }
   ],
   "source": [
    "#11. Write a Python program to remove characters that have odd index values in a given string.\n",
    "\n",
    "def odd_values_string(str):\n",
    "  result = \"\" \n",
    "  for i in range(len(str)):\n",
    "    if i % 2 == 0:\n",
    "      result += str[i]\n",
    "  return result\n",
    "\n",
    "print(odd_values_string('abcdef'))\n",
    "print(odd_values_string('python'))\n"
   ]
  },
  {
   "cell_type": "code",
   "execution_count": 20,
   "id": "622379b7-986c-46ae-89f3-265921dcf3e1",
   "metadata": {},
   "outputs": [
    {
     "name": "stdout",
     "output_type": "stream",
     "text": [
      "<i>Python</i>\n",
      "<b>Python Tutorial</b>\n"
     ]
    }
   ],
   "source": [
    "\"\"\"\n",
    "15. Write a Python function to create an HTML string with tags around the word(s).\n",
    "Sample function and result :\n",
    "add_tags('i', 'Python') -> '<i>Python</i>'\n",
    "add_tags('b', 'Python Tutorial') -> '<b>Python Tutorial </b>'\n",
    "\"\"\"\n",
    "\n",
    "def add_tags(a, str):\n",
    "    return \"<%s>%s</%s>\" % (a, str, a)\n",
    "\n",
    "print(add_tags(\"i\", \"Python\"))\n",
    "print(add_tags(\"b\", \"Python Tutorial\"))"
   ]
  },
  {
   "cell_type": "code",
   "execution_count": 21,
   "id": "628938de-4f28-43e3-844a-6081923d83cb",
   "metadata": {
    "editable": true,
    "slideshow": {
     "slide_type": ""
    },
    "tags": []
   },
   "outputs": [
    {
     "name": "stdout",
     "output_type": "stream",
     "text": [
      "ipy\n",
      "pyt\n"
     ]
    }
   ],
   "source": [
    "\"\"\"\n",
    "18. Write a Python function to get a string made of the first three characters of a specified string. \n",
    "If the length of the string is less than 3, return the original string.\n",
    "Sample function and result :\n",
    "first_three('ipy') -> ipy\n",
    "first_three('python') -> pyt\n",
    "\"\"\"\n",
    "\n",
    "def get_str(str):\n",
    "    if len(str)<3:\n",
    "        return str\n",
    "    else:\n",
    "        return str[:3]\n",
    "\n",
    "print(get_str(\"ipy\"))\n",
    "print(get_str(\"python\"))"
   ]
  },
  {
   "cell_type": "code",
   "execution_count": null,
   "id": "128bcf69-87be-4614-8b07-e1571b9953b0",
   "metadata": {},
   "outputs": [],
   "source": []
  }
 ],
 "metadata": {
  "kernelspec": {
   "display_name": "Python 3 (ipykernel)",
   "language": "python",
   "name": "python3"
  },
  "language_info": {
   "codemirror_mode": {
    "name": "ipython",
    "version": 3
   },
   "file_extension": ".py",
   "mimetype": "text/x-python",
   "name": "python",
   "nbconvert_exporter": "python",
   "pygments_lexer": "ipython3",
   "version": "3.11.4"
  }
 },
 "nbformat": 4,
 "nbformat_minor": 5
}
