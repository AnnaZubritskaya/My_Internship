{
 "cells": [
  {
   "cell_type": "code",
   "execution_count": 1,
   "id": "c4b7b9b0-7ac4-46d6-8b5c-1d3b15b1f3ee",
   "metadata": {},
   "outputs": [
    {
     "name": "stdout",
     "output_type": "stream",
     "text": [
      "[0, 3, 4, 7, 9]\n",
      "False\n",
      "[3, 5, 7, 13]\n",
      "True\n",
      "[1, 5, 3]\n",
      "False\n"
     ]
    }
   ],
   "source": [
    "\"\"\"\n",
    "17. Write a Python program to check if each number is prime in a given list of numbers. Return True if all numbers are prime otherwise False.\n",
    "Sample Data:\n",
    "([0, 3, 4, 7, 9]) -> False\n",
    "([3, 5, 7, 13]) -> True\n",
    "([1, 5, 3]) -> False\n",
    "\"\"\"\n",
    "def is_prime(n):\n",
    "    if (n==1):\n",
    "        return False\n",
    "    elif (n==2):\n",
    "        return True;\n",
    "    else:\n",
    "        for x in range(2,n):\n",
    "            if(n % x==0):\n",
    "                return False\n",
    "        return True\n",
    "        \n",
    "def find_prime(my_list):\n",
    "    return all(is_prime(i) for i in my_list)\n",
    "    \n",
    "my_list = [0, 3, 4, 7, 9]\n",
    "print(my_list)\n",
    "print(find_prime(my_list))\n",
    "\n",
    "my_list = [3, 5, 7, 13]\n",
    "print(my_list)\n",
    "print(find_prime(my_list))\n",
    "\n",
    "my_list = [1, 5, 3]\n",
    "print(my_list)\n",
    "print(find_prime(my_list))\n",
    "\n",
    "del my_list"
   ]
  },
  {
   "cell_type": "code",
   "execution_count": 2,
   "id": "a45eac64-b815-4ea5-adc5-1e662d19f996",
   "metadata": {},
   "outputs": [
    {
     "name": "stdout",
     "output_type": "stream",
     "text": [
      "3\n",
      "6\n"
     ]
    }
   ],
   "source": [
    "# 25. Write a Python program to select an item randomly from a list.\n",
    "import random\n",
    "\n",
    "def my_rand_fun(mylist):\n",
    "    size=len(mylist)\n",
    "    i=random.randint(0, size-1)\n",
    "    return mylist[i]\n",
    "    \n",
    "mylist=[1,2,3,4,5,6,7,8,9]\n",
    "print(my_rand_fun(mylist))\n",
    "\n",
    "#The solution on the site\n",
    "\n",
    "print(random.choice(mylist))\n",
    "\n",
    "del mylist"
   ]
  },
  {
   "cell_type": "code",
   "execution_count": 8,
   "id": "dec79737-afc1-4bd5-8838-b3b0c376e051",
   "metadata": {},
   "outputs": [
    {
     "name": "stdout",
     "output_type": "stream",
     "text": [
      "3\n",
      "1\n",
      "None\n",
      "None\n",
      "50\n"
     ]
    }
   ],
   "source": [
    "# 28. Write a Python program to find the second largest number in a list.\n",
    "\n",
    "def second_largest(mylist):\n",
    "  if (len(mylist)<2):\n",
    "    return\n",
    "  if ((len(mylist)==2)  and (mylist[0] == mylist[1])):\n",
    "    return\n",
    "      \n",
    "  uniq_items = []\n",
    "  for x in mylist:\n",
    "    if x not in uniq_items:\n",
    "      uniq_items.append(x)\n",
    "  uniq_items.sort()    \n",
    "  return  uniq_items[-2]  \n",
    "    \n",
    "print(second_largest([1,2,3,4,4]))\n",
    "print(second_largest([1, 1, 1, 0, 0, 0, 2, -2, -2]))\n",
    "print(second_largest([2,2]))\n",
    "print(second_largest([1]))\n",
    "\n",
    "#Second way\n",
    "\n",
    "my_list = [10, 20, 30, 40, 20, 50, 60, 40]\n",
    "my_set = set(my_list)\n",
    "my_new_list = list(my_set)\n",
    "my_new_list.sort()\n",
    "print(my_new_list[-2])\n",
    "\n"
   ]
  },
  {
   "cell_type": "code",
   "execution_count": 11,
   "id": "15c3589e-e261-4ff4-95a4-2315cf5871a8",
   "metadata": {},
   "outputs": [
    {
     "name": "stdout",
     "output_type": "stream",
     "text": [
      "Original List :  [1, 2, 1, 5, 3, 4, 5]\n",
      "List of unique numbers :  [1, 2, 3, 4, 5]\n",
      "[1, 2, 5, 3, 4]\n"
     ]
    }
   ],
   "source": [
    "#29. Write a Python program to get unique values from a list.\n",
    "\n",
    "my_list = [1,2,1,5,3,4,5]\n",
    "print(\"Original List : \",my_list)\n",
    "my_set = set(my_list)\n",
    "my_new_list = list(my_set)\n",
    "print(\"List of unique numbers : \",my_new_list)\n",
    "\n",
    "#Second way\n",
    "\n",
    "def find_unique(mylist):\n",
    "  uniq_items = []\n",
    "  for x in mylist:\n",
    "    if x not in uniq_items:\n",
    "      uniq_items.append(x)  \n",
    "  return  uniq_items \n",
    "    \n",
    "print(find_unique(my_list))"
   ]
  },
  {
   "cell_type": "code",
   "execution_count": 21,
   "id": "7afe8d86-2997-42db-adde-e390c96e6bcd",
   "metadata": {},
   "outputs": [
    {
     "name": "stdout",
     "output_type": "stream",
     "text": [
      "['1=3', '2=2', '3=1']\n",
      "Original List :  [10, 10, 10, 10, 20, 20, 20, 20, 40, 40, 50, 50, 30]\n",
      "Frequency of the elements in the List :  Counter({10: 4, 20: 4, 40: 2, 50: 2, 30: 1})\n"
     ]
    }
   ],
   "source": [
    "#30. Write a Python program to get the frequency of elements in a list.\n",
    "\n",
    "def freq_for_el(n, my_list):\n",
    "    \n",
    "    for i in my_list:\n",
    "        if i==n: \n",
    "            count+=1\n",
    "    return count\n",
    "    \n",
    "        \n",
    "def find_frequency(my_list):\n",
    "    freq=[]\n",
    "    uniq=[]\n",
    "    for i in my_list:\n",
    "        count=0\n",
    "        if i not in uniq:\n",
    "            uniq.append(i)\n",
    "            for y in my_list:\n",
    "                if count==0 and i==y: \n",
    "                    count=1\n",
    "                else: \n",
    "                    if i==y:\n",
    "                        count+=1\n",
    "        if count!=0:\n",
    "            freq.append(str(i)+\"=\"+str(count))\n",
    "    return freq\n",
    "\n",
    "print(find_frequency([1,2,1,1,2,3]))\n",
    "\n",
    "#Solution on the site\n",
    "\n",
    "import collections\n",
    "my_list = [10,10,10,10,20,20,20,20,40,40,50,50,30]\n",
    "print(\"Original List : \",my_list)\n",
    "ctr = collections.Counter(my_list)\n",
    "print(\"Frequency of the elements in the List : \",ctr)\n"
   ]
  },
  {
   "cell_type": "code",
   "execution_count": null,
   "id": "7dccf25a-367e-4da3-80f3-7d816254ff60",
   "metadata": {},
   "outputs": [],
   "source": []
  }
 ],
 "metadata": {
  "kernelspec": {
   "display_name": "Python 3 (ipykernel)",
   "language": "python",
   "name": "python3"
  },
  "language_info": {
   "codemirror_mode": {
    "name": "ipython",
    "version": 3
   },
   "file_extension": ".py",
   "mimetype": "text/x-python",
   "name": "python",
   "nbconvert_exporter": "python",
   "pygments_lexer": "ipython3",
   "version": "3.11.4"
  }
 },
 "nbformat": 4,
 "nbformat_minor": 5
}
