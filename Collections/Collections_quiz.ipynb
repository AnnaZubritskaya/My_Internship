{
 "cells": [
  {
   "cell_type": "code",
   "execution_count": 2,
   "id": "36dfb6f4-2b8a-4ad2-a482-994a93900633",
   "metadata": {},
   "outputs": [
    {
     "name": "stdout",
     "output_type": "stream",
     "text": [
      "1 : a\n",
      "2 : b\n",
      "4 : d\n",
      "3 : e\n"
     ]
    }
   ],
   "source": [
    "from collections import OrderedDict\n",
    "\n",
    "oDict=OrderedDict()\n",
    "\n",
    "oDict[1]='a'\n",
    "\n",
    "oDict[2]='b'\n",
    "\n",
    "oDict[3]='c'\n",
    "\n",
    "oDict[4]='d'\n",
    "\n",
    "oDict.pop(3)\n",
    "\n",
    "oDict[3]='e'\n",
    "\n",
    "for i in oDict:\n",
    "\n",
    "    print(i,':',oDict[i])"
   ]
  },
  {
   "cell_type": "code",
   "execution_count": 9,
   "id": "ea8e7915-b917-48a6-9e01-578ed8260a3c",
   "metadata": {},
   "outputs": [
    {
     "data": {
      "text/plain": [
       "[(1, 2)]"
      ]
     },
     "execution_count": 9,
     "metadata": {},
     "output_type": "execute_result"
    }
   ],
   "source": [
    "from collections import Counter\n",
    "c=Counter([1,2,3,4,1,2,5,6])\n",
    "c.most_common(1)"
   ]
  },
  {
   "cell_type": "code",
   "execution_count": 11,
   "id": "d3af25a5-9b61-4136-a909-50b051068408",
   "metadata": {},
   "outputs": [
    {
     "data": {
      "text/plain": [
       "{1: 1, 4: 2, 16: 4, 25: 5}"
      ]
     },
     "execution_count": 11,
     "metadata": {},
     "output_type": "execute_result"
    }
   ],
   "source": [
    "from collections import UserDict\n",
    "\n",
    "class UDict(UserDict):\n",
    "    def pop(self, ele=None):\n",
    "        raise TypeError('Not Allowed')\n",
    "    def _del_(self):\n",
    "        raise TypeError('Not Allowed')\n",
    "    def popitem(seld, ele=None):\n",
    "        raise TypeError('Not Allowed')\n",
    "\n",
    "uDic=UDict({1:1,4:2,16:4})\n",
    "\n",
    "uDic[25]=5\n",
    "uDic"
   ]
  },
  {
   "cell_type": "code",
   "execution_count": null,
   "id": "fa4c2fa2-71dc-4842-83b9-a8762d6ca8a8",
   "metadata": {},
   "outputs": [],
   "source": []
  }
 ],
 "metadata": {
  "kernelspec": {
   "display_name": "Python 3 (ipykernel)",
   "language": "python",
   "name": "python3"
  },
  "language_info": {
   "codemirror_mode": {
    "name": "ipython",
    "version": 3
   },
   "file_extension": ".py",
   "mimetype": "text/x-python",
   "name": "python",
   "nbconvert_exporter": "python",
   "pygments_lexer": "ipython3",
   "version": "3.11.4"
  }
 },
 "nbformat": 4,
 "nbformat_minor": 5
}
