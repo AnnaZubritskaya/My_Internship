{
 "cells": [
  {
   "cell_type": "code",
   "execution_count": null,
   "id": "6bb69ac4-536e-41ad-9bbf-b60b0468fd20",
   "metadata": {},
   "outputs": [],
   "source": [
    "\"\"\"\n",
    "2. Write a Python program to find the most common elements and their counts in a specified text.\n",
    "Original string: lkseropewdssafsdfafkpwe\n",
    "Most common three characters of the said string:\n",
    "[('s', 4), ('e', 3), ('f', 3)]\n",
    "\"\"\""
   ]
  },
  {
   "cell_type": "code",
   "execution_count": 4,
   "id": "54a18aed-909e-422e-9752-fbc15b7e23c5",
   "metadata": {},
   "outputs": [
    {
     "data": {
      "text/plain": [
       "[('s', 4), ('e', 3), ('f', 3)]"
      ]
     },
     "execution_count": 4,
     "metadata": {},
     "output_type": "execute_result"
    }
   ],
   "source": [
    "from collections import Counter\n",
    "\n",
    "or_str='lkseropewdssafsdfafkpwe'\n",
    "counted=Counter(or_str)\n",
    "counted.most_common(3)"
   ]
  },
  {
   "cell_type": "code",
   "execution_count": null,
   "id": "ad03817f-1ed6-40cb-9659-030b50eb81fa",
   "metadata": {},
   "outputs": [],
   "source": [
    "\"\"\"\n",
    "3. Write a Python program to create a new deque with three items and iterate over the deque's elements.\n",
    "Sample Output:\n",
    "a\n",
    "e\n",
    "i\n",
    "o\n",
    "u\n",
    "\"\"\""
   ]
  },
  {
   "cell_type": "code",
   "execution_count": 6,
   "id": "eb61e5ec-9600-4909-91bf-cd8f5a742f2c",
   "metadata": {},
   "outputs": [
    {
     "name": "stdout",
     "output_type": "stream",
     "text": [
      "a\n",
      "e\n",
      "i\n",
      "o\n",
      "u\n"
     ]
    }
   ],
   "source": [
    "from collections import deque\n",
    "dq = deque('aeiou')\n",
    "for i in dq:\n",
    "    print(i)"
   ]
  },
  {
   "cell_type": "code",
   "execution_count": null,
   "id": "3909a7c6-3538-4d6c-8c1d-2abc4a16c2dd",
   "metadata": {},
   "outputs": [],
   "source": [
    "\"\"\"\n",
    "4. Write a Python program to find the occurrences of the 10 most common words in a given text.\n",
    "Sample Output:\n",
    "[('Python', 6), ('the', 6), ('and', 5), ('We', 2), ('with', 2), ('The', 1), ('Software', 1), ('Foundation', 1), ('PSF', 1), ('is', 1)]\n",
    "\"\"\""
   ]
  },
  {
   "cell_type": "code",
   "execution_count": 16,
   "id": "d2ffe13a-88ad-453a-8a27-1945429f84af",
   "metadata": {},
   "outputs": [
    {
     "name": "stdout",
     "output_type": "stream",
     "text": [
      "[('the', 6), ('Python', 5), ('and', 5), ('We', 2), ('with', 2), ('The', 1), ('Software', 1), ('Foundation', 1), ('(PSF)', 1), ('is', 1)]\n",
      "[('Python', 6), ('the', 6), ('and', 5), ('We', 2), ('with', 2), ('The', 1), ('Software', 1), ('Foundation', 1), ('PSF', 1), ('is', 1)]\n"
     ]
    }
   ],
   "source": [
    "from collections import Counter\n",
    "import re\n",
    "\n",
    "text = \"\"\"The Python Software Foundation (PSF) is a 501(c)(3) non-profit \n",
    "corporation that holds the intellectual property rights behind\n",
    "the Python programming language. We manage the open source licensing \n",
    "for Python version 2.1 and later and own and protect the trademarks \n",
    "associated with Python. We also run the North American PyCon conference \n",
    "annually, support other Python conferences around the world, and \n",
    "fund Python related development with our grants program and by funding \n",
    "special projects.\"\"\"\n",
    "\n",
    "mylist=text.split()\n",
    "counted=Counter(mylist)\n",
    "print(counted.most_common(10))\n",
    "\n",
    "words = re.findall('\\w+',text)\n",
    "print(Counter(words).most_common(10))"
   ]
  },
  {
   "cell_type": "code",
   "execution_count": null,
   "id": "7db88ca8-227c-4df1-8211-f07dff7798e0",
   "metadata": {},
   "outputs": [],
   "source": [
    "\"\"\"\n",
    "6. Write a Python program that accepts the number of subjects, subject names and marks. Input the number of subjects and then the subject name and marks separated by a space on the next line. Print the subject name and marks in order of appearance.\n",
    "Sample Output:\n",
    "Powered by\n",
    "Number of subjects: 3\n",
    "Input Subject name and marks: Bengali 58\n",
    "Input Subject name and marks: English 62\n",
    "Input Subject name and marks: Math 68\n",
    "Bengali 58\n",
    "English 62\n",
    "Math 68\n",
    "\"\"\""
   ]
  },
  {
   "cell_type": "code",
   "execution_count": 21,
   "id": "b4b627f8-614e-409b-aab6-dadcb3fd52f0",
   "metadata": {},
   "outputs": [
    {
     "name": "stdin",
     "output_type": "stream",
     "text": [
      "Number of subjects: 3\n",
      "Input Subject name and marks: Bengali 58\n",
      "Input Subject name and marks: English 62\n",
      "Input Subject name and marks: Math 68\n"
     ]
    },
    {
     "name": "stdout",
     "output_type": "stream",
     "text": [
      "Bengali 58\n",
      "English 62\n",
      "Math 68\n"
     ]
    }
   ],
   "source": [
    "from collections import OrderedDict\n",
    "\n",
    "num=int(input(\"Number of subjects:\"))\n",
    "mydict=OrderedDict()\n",
    "\n",
    "for i in range(0, num):\n",
    "    in_str=input(\"Input Subject name and marks:\")\n",
    "    list_str=in_str.split()\n",
    "    mydict[list_str[0]]=list_str[1]\n",
    "\n",
    "#print(mydict)\n",
    "\n",
    "for i in mydict:\n",
    "   print(i+\" \"+str(mydict[i]))"
   ]
  },
  {
   "cell_type": "code",
   "execution_count": null,
   "id": "ee919219-ffba-483d-854a-5eda8eab5a3a",
   "metadata": {},
   "outputs": [],
   "source": [
    "\"\"\"\n",
    "7. Write a Python program to create a deque and append a few elements to the left and right. Next, remove some elements from the left and right sides and reverse the deque.\n",
    "Sample Output:\n",
    "deque(['Red', 'Green', 'White'])\n",
    "Adding to the left:\n",
    "deque(['Pink', 'Red', 'Green', 'White'])\n",
    "Adding to the right:\n",
    "deque(['Pink', 'Red', 'Green', 'White', 'Orange'])\n",
    "Removing from the right:\n",
    "deque(['Pink', 'Red', 'Green', 'White'])\n",
    "Removing from the left:\n",
    "deque(['Red', 'Green', 'White'])\n",
    "Reversing the deque:\n",
    "deque(['White', 'Green', 'Red'])\n",
    "\"\"\""
   ]
  },
  {
   "cell_type": "code",
   "execution_count": 29,
   "id": "5c777aac-eb0c-4959-8984-5332ba7a58a6",
   "metadata": {},
   "outputs": [
    {
     "name": "stdout",
     "output_type": "stream",
     "text": [
      "Sample Output:\n",
      " deque(['Red', 'Green', 'White'])\n",
      "Adding to the left:\n",
      " deque(['Pink', 'Red', 'Green', 'White'])\n",
      "Adding to the right:\n",
      " deque(['Pink', 'Red', 'Green', 'White', 'Orange'])\n",
      "Removing from the right:\n",
      " deque(['Pink', 'Red', 'Green', 'White'])\n",
      "Removing from the left:\n",
      " deque(['Red', 'Green', 'White'])\n",
      "Reversing the deque:\n",
      " deque(['White', 'Green', 'Red'])\n"
     ]
    }
   ],
   "source": [
    "from collections import deque\n",
    "\n",
    "mydeque=deque(['Red', 'Green', 'White'])\n",
    "print(\"Sample Output:\\n\", mydeque)\n",
    "\n",
    "mydeque.appendleft('Pink')\n",
    "print(\"Adding to the left:\\n\", mydeque)\n",
    "\n",
    "mydeque.append('Orange')\n",
    "print(\"Adding to the right:\\n\", mydeque)\n",
    "\n",
    "mydeque.pop()\n",
    "print(\"Removing from the right:\\n\", mydeque)\n",
    "\n",
    "mydeque.popleft()\n",
    "print(\"Removing from the left:\\n\", mydeque)\n",
    "\n",
    "mydeque.reverse()\n",
    "print(\"Reversing the deque:\\n\", mydeque)"
   ]
  },
  {
   "cell_type": "code",
   "execution_count": null,
   "id": "b557a567-7e83-4ec6-a4f6-c5eb41154b11",
   "metadata": {},
   "outputs": [],
   "source": []
  }
 ],
 "metadata": {
  "kernelspec": {
   "display_name": "Python 3 (ipykernel)",
   "language": "python",
   "name": "python3"
  },
  "language_info": {
   "codemirror_mode": {
    "name": "ipython",
    "version": 3
   },
   "file_extension": ".py",
   "mimetype": "text/x-python",
   "name": "python",
   "nbconvert_exporter": "python",
   "pygments_lexer": "ipython3",
   "version": "3.11.4"
  }
 },
 "nbformat": 4,
 "nbformat_minor": 5
}
