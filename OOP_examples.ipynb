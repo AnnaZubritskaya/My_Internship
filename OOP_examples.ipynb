{
 "cells": [
  {
   "cell_type": "code",
   "execution_count": 1,
   "id": "5e6655e8-4c96-49b3-ac21-e947a442b546",
   "metadata": {},
   "outputs": [
    {
     "name": "stdout",
     "output_type": "stream",
     "text": [
      "Harssh 1337\n"
     ]
    }
   ],
   "source": [
    "# creates a class named MyClass\n",
    "class MyClass:\n",
    "\t\t# assign the values to the MyClass attributes\n",
    "\t\tnumber = 0\t\n",
    "\t\tname = \"noname\"\n",
    "\n",
    "def Main():\n",
    "\t\t# Creating an object of the MyClass.\n",
    "\t\t# Here, 'me' is the object\n",
    "\t\tme = MyClass()\n",
    "\n",
    "\t\t# Accessing the attributes of MyClass\n",
    "\t\t# using the dot(.) operator\n",
    "\t\tme.number = 1337\t\n",
    "\t\tme.name = \"Harssh\"\n",
    "\n",
    "\t\t# str is an build-in function that\n",
    "\t\t# creates an string\n",
    "\t\tprint(me.name + \" \" + str(me.number))\n",
    "\t\n",
    "# telling python that there is main in the program.\n",
    "if __name__=='__main__':\n",
    "\t\tMain()\n"
   ]
  },
  {
   "cell_type": "code",
   "execution_count": 2,
   "id": "72a31a5c-e64e-4e52-9b41-e6b7ba002f6c",
   "metadata": {},
   "outputs": [
    {
     "name": "stdout",
     "output_type": "stream",
     "text": [
      "X: 5, Y: 6\n"
     ]
    }
   ],
   "source": [
    "# A Python program to demonstrate working of class\n",
    "# methods\n",
    "\n",
    "class Vector2D:\n",
    "\t\tx = 0.0\n",
    "\t\ty = 0.0\n",
    "\n",
    "\t\t# Creating a method named Set\n",
    "\t\tdef Set(self, x, y):\t\n",
    "\t\t\t\tself.x = x\n",
    "\t\t\t\tself.y = y\n",
    "\n",
    "def Main():\n",
    "\t\t# vec is an object of class Vector2D\n",
    "\t\tvec = Vector2D()\n",
    "\t\t\n",
    "\t\t# Passing values to the function Set\n",
    "\t\t# by using dot(.) operator.\n",
    "\t\tvec.Set(5, 6)\t\n",
    "\t\tprint(\"X: \" + str(vec.x) + \", Y: \" + str(vec.y))\n",
    "\n",
    "if __name__=='__main__':\n",
    "\t\tMain()\n"
   ]
  },
  {
   "cell_type": "code",
   "execution_count": 3,
   "id": "b375e6a9-fb77-40c7-b7f1-6e723d7a83e5",
   "metadata": {},
   "outputs": [
    {
     "name": "stdout",
     "output_type": "stream",
     "text": [
      "Is jess a cat? True\n",
      "Is jess a pet? True\n",
      "Is the pet a cat? False\n",
      "Is thePet a Pet? True\n",
      "Jess\n"
     ]
    }
   ],
   "source": [
    "# A Python program to demonstrate working of inheritance\n",
    "class Pet:\n",
    "\t\t#__init__ is an constructor in Python\n",
    "\t\tdef __init__(self, name, age):\t\n",
    "\t\t\t\tself.name = name\n",
    "\t\t\t\tself.age = age\n",
    "\n",
    "# Class Cat inheriting from the class Pet\n",
    "class Cat(Pet):\t\t\n",
    "\t\tdef __init__(self, name, age):\n",
    "\t\t\t\t# calling the super-class function __init__\n",
    "\t\t\t\t# using the super() function\n",
    "\t\t\t\tsuper().__init__(name, age)\n",
    "\n",
    "def Main():\n",
    "\t\tthePet = Pet(\"Pet\", 1)\n",
    "\t\tjess = Cat(\"Jess\", 3)\n",
    "\t\t\n",
    "\t\t# isinstance() function to check whether a class is\n",
    "\t\t# inherited from another class\n",
    "\t\tprint(\"Is jess a cat? \" +str(isinstance(jess, Cat)))\n",
    "\t\tprint(\"Is jess a pet? \" +str(isinstance(jess, Pet)))\n",
    "\t\tprint(\"Is the pet a cat? \"+str(isinstance(thePet, Cat)))\n",
    "\t\tprint(\"Is thePet a Pet? \" +str(isinstance(thePet, Pet)))\n",
    "\t\tprint(jess.name)\n",
    "\n",
    "if __name__=='__main__':\n",
    "\t\tMain()\n"
   ]
  },
  {
   "cell_type": "code",
   "execution_count": 4,
   "id": "deb1962c-c674-4368-98eb-37ea4a309871",
   "metadata": {},
   "outputs": [
    {
     "name": "stdout",
     "output_type": "stream",
     "text": [
      "e\n",
      "l\n",
      "c\n",
      "i\n",
      "s\n",
      "p\n",
      "a\n",
      "r\n",
      "D\n"
     ]
    }
   ],
   "source": [
    "# This program will reverse the string that is passed\n",
    "# to it from the main function\n",
    "class Reverse:\n",
    "\tdef __init__(self, data):\n",
    "\t\tself.data = data\n",
    "\t\tself.index = len(data)\t\t\n",
    "\n",
    "\tdef __iter__(self):\n",
    "\t\treturn self\n",
    "\t\n",
    "\tdef __next__(self):\n",
    "\t\tif self.index == 0:\n",
    "\t\t\traise StopIteration\t\n",
    "\t\tself.index-= 1\n",
    "\t\treturn self.data[self.index]\n",
    "\n",
    "def Main():\n",
    "\trev = Reverse('Drapsicle')\n",
    "\tfor char in rev:\n",
    "\t\tprint(char)\n",
    "\n",
    "if __name__=='__main__':\n",
    "\tMain()\n"
   ]
  },
  {
   "cell_type": "code",
   "execution_count": 5,
   "id": "591cd125-d090-47e1-aa5c-571c55c41d75",
   "metadata": {},
   "outputs": [
    {
     "name": "stdout",
     "output_type": "stream",
     "text": [
      "h\n",
      "s\n",
      "s\n",
      "r\n",
      "a\n",
      "H\n",
      "['h', 's', 's', 'r', 'a', 'H']\n"
     ]
    }
   ],
   "source": [
    "# A Python program to demonstrate working of Generators\n",
    "def Reverse(data):\n",
    "\t# this is like counting from 100 to 1 by taking one(-1)\n",
    "\t# step backward.\n",
    "\tfor index in range(len(data)-1, -1, -1):\n",
    "\t\tyield data[index]\n",
    "\n",
    "def Main():\n",
    "\trev = Reverse('Harssh')\n",
    "\tfor char in rev:\n",
    "\t\tprint(char)\n",
    "\tdata ='Harssh'\n",
    "\tprint(list(data[i] for i in range(len(data)-1, -1, -1)))\n",
    "\n",
    "if __name__==\"__main__\":\n",
    "\tMain()\n"
   ]
  },
  {
   "cell_type": "code",
   "execution_count": 6,
   "id": "0d3e42c6-2535-4479-8ab3-9d679a3fe671",
   "metadata": {},
   "outputs": [
    {
     "name": "stdout",
     "output_type": "stream",
     "text": [
      "Rodger is a mammal\n",
      "Tommy is also a mammal\n",
      "My name is Rodger\n",
      "My name is Tommy\n"
     ]
    }
   ],
   "source": [
    "class Dog:\n",
    "\n",
    "\t# class attribute\n",
    "\tattr1 = \"mammal\"\n",
    "\n",
    "\t# Instance attribute\n",
    "\tdef __init__(self, name):\n",
    "\t\tself.name = name\n",
    "\n",
    "# Driver code\n",
    "# Object instantiation\n",
    "Rodger = Dog(\"Rodger\")\n",
    "Tommy = Dog(\"Tommy\")\n",
    "\n",
    "# Accessing class attributes\n",
    "print(\"Rodger is a {}\".format(Rodger.__class__.attr1))\n",
    "print(\"Tommy is also a {}\".format(Tommy.__class__.attr1))\n",
    "\n",
    "# Accessing instance attributes\n",
    "print(\"My name is {}\".format(Rodger.name))\n",
    "print(\"My name is {}\".format(Tommy.name))\n"
   ]
  },
  {
   "cell_type": "code",
   "execution_count": 7,
   "id": "c84cf978-ff53-498a-b0e6-92aded01f9d4",
   "metadata": {},
   "outputs": [
    {
     "name": "stdout",
     "output_type": "stream",
     "text": [
      "My name is Rodger\n",
      "My name is Tommy\n"
     ]
    }
   ],
   "source": [
    "class Dog:\n",
    "\n",
    "\t# class attribute\n",
    "\tattr1 = \"mammal\"\n",
    "\n",
    "\t# Instance attribute\n",
    "\tdef __init__(self, name):\n",
    "\t\tself.name = name\n",
    "\t\t\n",
    "\tdef speak(self):\n",
    "\t\tprint(\"My name is {}\".format(self.name))\n",
    "\n",
    "# Driver code\n",
    "# Object instantiation\n",
    "Rodger = Dog(\"Rodger\")\n",
    "Tommy = Dog(\"Tommy\")\n",
    "\n",
    "# Accessing class methods\n",
    "Rodger.speak()\n",
    "Tommy.speak()\n"
   ]
  },
  {
   "cell_type": "code",
   "execution_count": 8,
   "id": "de3a7719-66df-4812-843f-b6fd1e09ca69",
   "metadata": {},
   "outputs": [
    {
     "name": "stdout",
     "output_type": "stream",
     "text": [
      "Rahul\n",
      "886012\n",
      "My name is Rahul\n",
      "IdNumber: 886012\n",
      "Post: Intern\n"
     ]
    }
   ],
   "source": [
    "# Python code to demonstrate how parent constructors\n",
    "# are called.\n",
    "\n",
    "# parent class\n",
    "class Person(object):\n",
    "\n",
    "\t# __init__ is known as the constructor\n",
    "\tdef __init__(self, name, idnumber):\n",
    "\t\tself.name = name\n",
    "\t\tself.idnumber = idnumber\n",
    "\n",
    "\tdef display(self):\n",
    "\t\tprint(self.name)\n",
    "\t\tprint(self.idnumber)\n",
    "\t\t\n",
    "\tdef details(self):\n",
    "\t\tprint(\"My name is {}\".format(self.name))\n",
    "\t\tprint(\"IdNumber: {}\".format(self.idnumber))\n",
    "\t\n",
    "# child class\n",
    "class Employee(Person):\n",
    "\tdef __init__(self, name, idnumber, salary, post):\n",
    "\t\tself.salary = salary\n",
    "\t\tself.post = post\n",
    "\n",
    "\t\t# invoking the __init__ of the parent class\n",
    "\t\tPerson.__init__(self, name, idnumber)\n",
    "\t\t\n",
    "\tdef details(self):\n",
    "\t\tprint(\"My name is {}\".format(self.name))\n",
    "\t\tprint(\"IdNumber: {}\".format(self.idnumber))\n",
    "\t\tprint(\"Post: {}\".format(self.post))\n",
    "\n",
    "class Me(Person):\n",
    "    def __init__(self, name, idnumber):\n",
    "        super().__init__(name, idnumber)\n",
    "\n",
    "# creation of an object variable or an instance\n",
    "a = Employee('Rahul', 886012, 200000, \"Intern\")\n",
    "\n",
    "# calling a function of the class Person using\n",
    "# its instance\n",
    "a.display()\n",
    "a.details()\n",
    "\n"
   ]
  },
  {
   "cell_type": "code",
   "execution_count": 9,
   "id": "86164444-1863-4736-bc6b-6f63d65a30ef",
   "metadata": {},
   "outputs": [
    {
     "name": "stdout",
     "output_type": "stream",
     "text": [
      "There are many types of birds.\n",
      "Most of the birds can fly but some cannot.\n",
      "There are many types of birds.\n",
      "Sparrows can fly.\n",
      "There are many types of birds.\n",
      "Ostriches cannot fly.\n"
     ]
    }
   ],
   "source": [
    "class Bird:\n",
    "\n",
    "\tdef intro(self):\n",
    "\t\tprint(\"There are many types of birds.\")\n",
    "\n",
    "\tdef flight(self):\n",
    "\t\tprint(\"Most of the birds can fly but some cannot.\")\n",
    "\n",
    "class sparrow(Bird):\n",
    "\n",
    "\tdef flight(self):\n",
    "\t\tprint(\"Sparrows can fly.\")\n",
    "\n",
    "class ostrich(Bird):\n",
    "\n",
    "\tdef flight(self):\n",
    "\t\tprint(\"Ostriches cannot fly.\")\n",
    "\n",
    "obj_bird = Bird()\n",
    "obj_spr = sparrow()\n",
    "obj_ost = ostrich()\n",
    "\n",
    "obj_bird.intro()\n",
    "obj_bird.flight()\n",
    "\n",
    "obj_spr.intro()\n",
    "obj_spr.flight()\n",
    "\n",
    "obj_ost.intro()\n",
    "obj_ost.flight()\n"
   ]
  },
  {
   "cell_type": "code",
   "execution_count": 10,
   "id": "8c8ad39a-5d02-4b92-9d28-d1cca17201ef",
   "metadata": {},
   "outputs": [
    {
     "name": "stdout",
     "output_type": "stream",
     "text": [
      "GeeksforGeeks\n"
     ]
    }
   ],
   "source": [
    "# Python program to\n",
    "# demonstrate private members\n",
    "\n",
    "# Creating a Base class\n",
    "class Base:\n",
    "\tdef __init__(self):\n",
    "\t\tself.a = \"GeeksforGeeks\"\n",
    "\t\tself.__c = \"GeeksforGeeks\"\n",
    "\n",
    "# Creating a derived class\n",
    "class Derived(Base):\n",
    "\tdef __init__(self):\n",
    "\n",
    "\t\t# Calling constructor of\n",
    "\t\t# Base class\n",
    "\t\tBase.__init__(self)\n",
    "\t\tprint(\"Calling private member of base class: \")\n",
    "\t\tprint(self.__c)\n",
    "\n",
    "\n",
    "# Driver code\n",
    "obj1 = Base()\n",
    "print(obj1.a)\n",
    "\n",
    "# Uncommenting print(obj1.c) will\n",
    "# raise an AttributeError\n",
    "\n",
    "# Uncommenting obj2 = Derived() will\n",
    "# also raise an AtrributeError as\n",
    "# private member of base class\n",
    "# is called inside derived class\n"
   ]
  },
  {
   "cell_type": "code",
   "execution_count": 11,
   "id": "7971ade9-7fc9-4a29-a8be-3793c8306dce",
   "metadata": {},
   "outputs": [
    {
     "name": "stdout",
     "output_type": "stream",
     "text": [
      "2\n",
      "7\n"
     ]
    },
    {
     "ename": "AttributeError",
     "evalue": "'MyClass' object has no attribute '__hiddenVariable'",
     "output_type": "error",
     "traceback": [
      "\u001b[1;31m---------------------------------------------------------------------------\u001b[0m",
      "\u001b[1;31mAttributeError\u001b[0m                            Traceback (most recent call last)",
      "Cell \u001b[1;32mIn[11], line 18\u001b[0m\n\u001b[0;32m     15\u001b[0m myObject\u001b[38;5;241m.\u001b[39madd(\u001b[38;5;241m5\u001b[39m)\n\u001b[0;32m     17\u001b[0m \u001b[38;5;66;03m# This line causes error\u001b[39;00m\n\u001b[1;32m---> 18\u001b[0m \u001b[38;5;28mprint\u001b[39m (\u001b[43mmyObject\u001b[49m\u001b[38;5;241;43m.\u001b[39;49m\u001b[43m__hiddenVariable\u001b[49m)\n",
      "\u001b[1;31mAttributeError\u001b[0m: 'MyClass' object has no attribute '__hiddenVariable'"
     ]
    }
   ],
   "source": [
    "class MyClass:\n",
    "\n",
    "\t# Hidden member of MyClass\n",
    "\t__hiddenVariable = 0\n",
    "\t\n",
    "\t# A member method that changes\n",
    "\t# __hiddenVariable\n",
    "\tdef add(self, increment):\n",
    "\t\tself.__hiddenVariable += increment\n",
    "\t\tprint (self.__hiddenVariable)\n",
    "\n",
    "# Driver code\n",
    "myObject = MyClass()\t\n",
    "myObject.add(2)\n",
    "myObject.add(5)\n",
    "\n",
    "# This line causes error\n",
    "print (myObject.__hiddenVariable)\n"
   ]
  },
  {
   "cell_type": "code",
   "execution_count": null,
   "id": "6a723319-6c5f-4967-9285-b487bc1c3900",
   "metadata": {},
   "outputs": [],
   "source": [
    "# A Python program to demonstrate that hidden\n",
    "# members can be accessed outside a class\n",
    "class MyClass:\n",
    "\n",
    "\t# Hidden member of MyClass\n",
    "\t__hiddenVariable = 10\n",
    "\n",
    "# Driver code\n",
    "myObject = MyClass()\t\n",
    "print(myObject._MyClass__hiddenVariable)\n"
   ]
  },
  {
   "cell_type": "code",
   "execution_count": null,
   "id": "59788416-ecef-464a-affe-31d4bd48cb3c",
   "metadata": {},
   "outputs": [],
   "source": [
    "class Test:\n",
    "\tdef __init__(self, a, b):\n",
    "\t\tself.a = a\n",
    "\t\tself.b = b\n",
    "\n",
    "\tdef __repr__(self):\n",
    "\t\treturn \"Test a:%s b:%s\" % (self.a, self.b)\n",
    "\n",
    "\tdef __str__(self):\n",
    "\t\treturn \"From str method of Test: a is %s,\" \\\n",
    "\t\t\t\"b is %s\" % (self.a, self.b)\n",
    "\n",
    "# Driver Code\t\t\n",
    "t = Test(1234, 5678)\n",
    "print(t) # This calls __str__()\n",
    "print([t]) # This calls __repr__()\n"
   ]
  },
  {
   "cell_type": "code",
   "execution_count": null,
   "id": "62b34279-bb89-4a6b-a819-1dab0024d825",
   "metadata": {},
   "outputs": [],
   "source": [
    "class Test:\n",
    "\tdef __init__(self, a, b):\n",
    "\t\tself.a = a\n",
    "\t\tself.b = b\n",
    "\n",
    "\tdef __repr__(self):\n",
    "\t\treturn \"Test a:%s b:%s\" % (self.a, self.b)\n",
    "\n",
    "# Driver Code\t\t\n",
    "t = Test(1234, 5678)\n",
    "print(t)\n"
   ]
  },
  {
   "cell_type": "code",
   "execution_count": null,
   "id": "fe685279-6426-41e5-81a6-bcc5b13324d4",
   "metadata": {},
   "outputs": [],
   "source": [
    "class Test:\n",
    "\tdef __init__(self, a, b):\n",
    "\t\tself.a = a\n",
    "\t\tself.b = b\n",
    "\n",
    "# Driver Code\t\t\n",
    "t = Test(1234, 5678)\n",
    "print(t)\n"
   ]
  },
  {
   "cell_type": "code",
   "execution_count": null,
   "id": "eeef9711-85f8-47be-8383-5b07629897a9",
   "metadata": {},
   "outputs": [],
   "source": [
    "\n",
    "# A Python program to demonstrate inheritance\n",
    "\n",
    "# Base or Super class. Note object in bracket.\n",
    "# (Generally, object is made ancestor of all classes)\n",
    "# In Python 3.x \"class Person\" is\n",
    "# equivalent to \"class Person(object)\"\n",
    "class Person(object):\n",
    "\t\n",
    "\t# Constructor\n",
    "\tdef __init__(self, name):\n",
    "\t\tself.name = name\n",
    "\n",
    "\t# To get name\n",
    "\tdef getName(self):\n",
    "\t\treturn self.name\n",
    "\n",
    "\t# To check if this person is employee\n",
    "\tdef isEmployee(self):\n",
    "\t\treturn False\n",
    "\n",
    "\n",
    "# Inherited or Sub class (Note Person in bracket)\n",
    "class Employee(Person):\n",
    "\n",
    "\t# Here we return true\n",
    "\tdef isEmployee(self):\n",
    "\t\treturn True\n",
    "\n",
    "# Driver code\n",
    "emp = Person(\"Geek1\") # An Object of Person\n",
    "print(emp.getName(), emp.isEmployee())\n",
    "\n",
    "emp = Employee(\"Geek2\") # An Object of Employee\n",
    "print(emp.getName(), emp.isEmployee())\n"
   ]
  },
  {
   "cell_type": "code",
   "execution_count": null,
   "id": "07f21c2e-88b4-409b-b4ea-c4eebed271e7",
   "metadata": {},
   "outputs": [],
   "source": [
    "# Python example to check if a class is\n",
    "# subclass of another\n",
    "\n",
    "class Base(object):\n",
    "\tpass # Empty Class\n",
    "\n",
    "class Derived(Base):\n",
    "\tpass # Empty Class\n",
    "\n",
    "# Driver Code\n",
    "print(issubclass(Derived, Base))\n",
    "print(issubclass(Base, Derived))\n",
    "\n",
    "d = Derived()\n",
    "b = Base()\n",
    "\n",
    "# b is not an instance of Derived\n",
    "print(isinstance(b, Derived))\n",
    "\n",
    "# But d is an instance of Base\n",
    "print(isinstance(d, Base))\n"
   ]
  },
  {
   "cell_type": "code",
   "execution_count": null,
   "id": "a42de0e9-5358-43d4-93cc-52d8d95ec230",
   "metadata": {},
   "outputs": [],
   "source": [
    "# Python example to show working of multiple\n",
    "# inheritance\n",
    "class Base1(object):\n",
    "\tdef __init__(self):\n",
    "\t\tself.str1 = \"Geek1\"\n",
    "\t\tprint (\"Base1\")\n",
    "\n",
    "class Base2(object):\n",
    "\tdef __init__(self):\n",
    "\t\tself.str2 = \"Geek2\"\t\t\n",
    "\t\tprint (\"Base2\")\n",
    "\n",
    "class Derived(Base1, Base2):\n",
    "\tdef __init__(self):\n",
    "\t\t\n",
    "\t\t# Calling constructors of Base1\n",
    "\t\t# and Base2 classes\n",
    "\t\tBase1.__init__(self)\n",
    "\t\tBase2.__init__(self)\n",
    "\t\tprint (\"Derived\")\n",
    "\t\t\n",
    "\tdef printStrs(self):\n",
    "\t\tprint(self.str1, self.str2)\n",
    "\t\t\n",
    "\n",
    "ob = Derived()\n",
    "ob.printStrs()\n"
   ]
  },
  {
   "cell_type": "code",
   "execution_count": 22,
   "id": "65a53d2d-1798-41af-8b90-94a51a15f68a",
   "metadata": {},
   "outputs": [
    {
     "name": "stdout",
     "output_type": "stream",
     "text": [
      "10 20\n"
     ]
    }
   ],
   "source": [
    "# Python example to show that base\n",
    "# class members can be accessed in\n",
    "# derived class using base class name\n",
    "class Base(object):\n",
    "\n",
    "\t# Constructor\n",
    "\tdef __init__(self, x):\n",
    "\t\tself.x = x\t\n",
    "\n",
    "class Derived(Base):\n",
    "\n",
    "\t# Constructor\n",
    "    def __init__(self, x, y):\n",
    "        Base.x = x\n",
    "        self.y = y\n",
    "        \n",
    "    def printXY(self):\n",
    "        print(Base.x, self.y)\n",
    "\n",
    "# Driver Code\n",
    "d = Derived(10, 20)\n",
    "d.printXY()\n"
   ]
  },
  {
   "cell_type": "code",
   "execution_count": 30,
   "id": "1c387318-438e-4925-933c-020d634327d1",
   "metadata": {},
   "outputs": [
    {
     "name": "stdout",
     "output_type": "stream",
     "text": [
      "10 20\n"
     ]
    }
   ],
   "source": [
    "# Python example to show that base\n",
    "# class members can be accessed in\n",
    "# derived class using super()\n",
    "class Base(object):\n",
    "\n",
    "\t# Constructor\n",
    "\tdef __init__(self, x):\n",
    "\t\tself.x = x\t\n",
    "\n",
    "class Derived(Base):\n",
    "\n",
    "\t# Constructor\n",
    "    def __init__(self, x, y):\n",
    "        super(Derived, self).__init__(x)\n",
    "        self.y = y\n",
    "\n",
    "    def printXY(self):\n",
    "\n",
    "\t# Note that Base.x won't work here\n",
    "\t# because super() is used in constructor\n",
    "        print(self.x, self.y)\n",
    "\n",
    "\n",
    "# Driver Code\n",
    "d = Derived(10, 20)\n",
    "d.printXY()\n"
   ]
  },
  {
   "cell_type": "code",
   "execution_count": 31,
   "id": "1e9cf7dd-0858-4c37-9202-0200a692f2cb",
   "metadata": {},
   "outputs": [
    {
     "name": "stdout",
     "output_type": "stream",
     "text": [
      "cse\n",
      "cse\n",
      "Geek\n",
      "Nerd\n",
      "1\n",
      "2\n",
      "cse\n",
      "ece\n",
      "cse\n",
      "ece\n",
      "mech\n"
     ]
    }
   ],
   "source": [
    "# Python program to show that the variables with a value\n",
    "# assigned in class declaration, are class variables\n",
    "\n",
    "# Class for Computer Science Student\n",
    "class CSStudent:\n",
    "\tstream = 'cse'\t\t\t\t # Class Variable\n",
    "\tdef __init__(self,name,roll):\n",
    "\t\tself.name = name\t\t # Instance Variable\n",
    "\t\tself.roll = roll\t\t # Instance Variable\n",
    "\n",
    "# Objects of CSStudent class\n",
    "a = CSStudent('Geek', 1)\n",
    "b = CSStudent('Nerd', 2)\n",
    "\n",
    "print(a.stream) # prints \"cse\"\n",
    "print(b.stream) # prints \"cse\"\n",
    "print(a.name) # prints \"Geek\"\n",
    "print(b.name) # prints \"Nerd\"\n",
    "print(a.roll) # prints \"1\"\n",
    "print(b.roll) # prints \"2\"\n",
    "\n",
    "# Class variables can be accessed using class\n",
    "# name also\n",
    "print(CSStudent.stream) # prints \"cse\"\n",
    "\n",
    "# Now if we change the stream for just a it won't be changed for b\n",
    "a.stream = 'ece'\n",
    "print(a.stream) # prints 'ece'\n",
    "print(b.stream) # prints 'cse'\n",
    "\n",
    "# To change the stream for all instances of the class we can change it\n",
    "# directly from the class\n",
    "CSStudent.stream = 'mech'\n",
    "\n",
    "print(a.stream) # prints 'ece'\n",
    "print(b.stream) # prints 'mech'\n"
   ]
  },
  {
   "cell_type": "code",
   "execution_count": 32,
   "id": "339aa40e-4369-4b25-9369-3db84653c799",
   "metadata": {},
   "outputs": [
    {
     "name": "stdout",
     "output_type": "stream",
     "text": [
      "1\n",
      "2\n",
      "2\n"
     ]
    }
   ],
   "source": [
    "class MyClass:\n",
    "\tstatic_var = 0\n",
    "\n",
    "\tdef __init__(self):\n",
    "\t\tMyClass.static_var += 1\n",
    "\t\tself.instance_var = MyClass.static_var\n",
    "\n",
    "obj1 = MyClass()\n",
    "print(obj1.instance_var) # Output: 1\n",
    "\n",
    "obj2 = MyClass()\n",
    "print(obj2.instance_var) # Output: 2\n",
    "\n",
    "print(MyClass.static_var) # Output: 2\n"
   ]
  },
  {
   "cell_type": "code",
   "execution_count": 33,
   "id": "0379d054-c680-47a0-a31b-524ac707c5a9",
   "metadata": {},
   "outputs": [
    {
     "name": "stdout",
     "output_type": "stream",
     "text": [
      "21\n",
      "27\n",
      "True\n"
     ]
    }
   ],
   "source": [
    "# Python program to demonstrate\n",
    "# use of class method and static method.\n",
    "from datetime import date\n",
    "\n",
    "\n",
    "class Person:\n",
    "\tdef __init__(self, name, age):\n",
    "\t\tself.name = name\n",
    "\t\tself.age = age\n",
    "\n",
    "\t# a class method to create a Person object by birth year.\n",
    "\t@classmethod\n",
    "\tdef fromBirthYear(cls, name, year):\n",
    "\t\treturn cls(name, date.today().year - year)\n",
    "\n",
    "\t# a static method to check if a Person is adult or not.\n",
    "\t@staticmethod\n",
    "\tdef isAdult(age):\n",
    "\t\treturn age > 18\n",
    "\n",
    "\n",
    "person1 = Person('mayank', 21)\n",
    "person2 = Person.fromBirthYear('mayank', 1996)\n",
    "\n",
    "print(person1.age)\n",
    "print(person2.age)\n",
    "\n",
    "# print the result\n",
    "print(Person.isAdult(22))\n"
   ]
  },
  {
   "cell_type": "code",
   "execution_count": null,
   "id": "06c6409d-26af-4c7f-bdf0-11091df23d16",
   "metadata": {},
   "outputs": [],
   "source": []
  }
 ],
 "metadata": {
  "kernelspec": {
   "display_name": "Python 3 (ipykernel)",
   "language": "python",
   "name": "python3"
  },
  "language_info": {
   "codemirror_mode": {
    "name": "ipython",
    "version": 3
   },
   "file_extension": ".py",
   "mimetype": "text/x-python",
   "name": "python",
   "nbconvert_exporter": "python",
   "pygments_lexer": "ipython3",
   "version": "3.11.4"
  }
 },
 "nbformat": 4,
 "nbformat_minor": 5
}
