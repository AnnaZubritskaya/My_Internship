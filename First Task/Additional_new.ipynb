{
 "cells": [
  {
   "cell_type": "code",
   "execution_count": 11,
   "id": "19802161-25ab-4f48-aa62-bbc28cf6e5dc",
   "metadata": {},
   "outputs": [
    {
     "data": {
      "text/plain": [
       "['the',\n",
       " 'of',\n",
       " 'and',\n",
       " 'in',\n",
       " 'with',\n",
       " 'to',\n",
       " 'a',\n",
       " 'stroke',\n",
       " 'patients',\n",
       " 'was',\n",
       " 'for',\n",
       " 'were',\n",
       " 'or',\n",
       " 'is',\n",
       " 'on',\n",
       " 'at',\n",
       " 'we',\n",
       " '95',\n",
       " 'ischemic',\n",
       " 'from']"
      ]
     },
     "execution_count": 11,
     "metadata": {},
     "output_type": "execute_result"
    }
   ],
   "source": [
    "import pickle\n",
    "import pandas as pd\n",
    "\n",
    "def remove_punct(text):\n",
    "    punc_list=['.', ',', '-', '!', '?', '(', ')', '%', ':', ';', '[', ']', '=', '<', '>', '+', '≥']\n",
    "    for punct in punc_list:\n",
    "        text = text.replace(punct, '')\n",
    "    return text\n",
    "\n",
    "def top_words(original_list):\n",
    "    text=str(original_list)\n",
    "    text=remove_punct(text)\n",
    "    text = text.lower()\n",
    "    text_list = text.split()\n",
    "    mydict = {}\n",
    "    for word in text_list:\n",
    "        if word not in mydict:\n",
    "            mydict[word] = text_list.count(word)\n",
    "    sorted_dict = dict(sorted(mydict.items(), key=lambda x: x[1], reverse=True))\n",
    "    return sorted_dict\n",
    "\n",
    "with open('D:\\List_2.pkl', 'rb') as f:\n",
    "    data = pickle.load(f)\n",
    "\n",
    "final_list=list(top_words(data).keys())\n",
    "final_list[:20]\n",
    "\n",
    "#final_list=top_words(data)\n",
    "\n",
    "#dictionary_of_common_words=comm_dict(data)\n",
    "#for i in dictionary_of_common_words.items():\n",
    "#    print(i,\"\\n\")\n",
    "\n",
    "#for saving \n",
    "#file_path=\"D:\\Resulting_dictionary.pkl\"\n",
    "#with open(file_path, 'wb') as file: \n",
    "#    pickle.dump(dictionary_of_common_words, file)\n",
    "\n",
    "#df = pd.DataFrame(dictionary_of_common_words)\n",
    "#file_path = 'D:\\Resulting_dictionary.csv'\n",
    "#df.to_csv(file_path, index=False)\n",
    "\n",
    "#file_path = 'D:\\Resulting_dictionary.csv'\n",
    "#df = pd.read_csv(file_path)\n",
    "\n",
    "#df"
   ]
  },
  {
   "cell_type": "code",
   "execution_count": null,
   "id": "156c63e3-15ae-41f4-91da-8208a1b1f52d",
   "metadata": {},
   "outputs": [],
   "source": []
  }
 ],
 "metadata": {
  "kernelspec": {
   "display_name": "Python 3 (ipykernel)",
   "language": "python",
   "name": "python3"
  },
  "language_info": {
   "codemirror_mode": {
    "name": "ipython",
    "version": 3
   },
   "file_extension": ".py",
   "mimetype": "text/x-python",
   "name": "python",
   "nbconvert_exporter": "python",
   "pygments_lexer": "ipython3",
   "version": "3.11.4"
  }
 },
 "nbformat": 4,
 "nbformat_minor": 5
}
