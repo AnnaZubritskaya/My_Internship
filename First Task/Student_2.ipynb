{
 "cells": [
  {
   "cell_type": "code",
   "execution_count": 9,
   "id": "f25a5c6d-563e-4b33-88b4-ed56929106ef",
   "metadata": {},
   "outputs": [],
   "source": [
    "\n",
    "#1.Make a function to return the the given text document without the words and characters from the following list ['was', 'is', 'the', '.', ',', '-', '!', '?'].\n",
    "#text=\"\"\"The outbreak of coronavirus disease 2019 (COVID-19) has created a global health crisis that has had a deep impact on the way we perceive our world and our everyday lives. Not only the rate of contagion and patterns of transmission threatens our sense of agency, but the safety measures put in place to contain the spread of the virus also require social distancing by refraining from doing what is inherently human, which is to find solace in the company of others. Within this context of physical threat, social and physical distancing, as well as public alarm, what has been (and can be) the role of the different mass media channels in our lives on individual, social and societal levels? Mass media have long been recognized as powerful forces shaping how we experience the world and ourselves. This recognition is accompanied by a growing volume of research, that closely follows the footsteps of technological transformations (e.g. radio, movies, television, the internet, mobiles) and the zeitgeist (e.g. cold war, 9/11, climate change) in an attempt to map mass media major impacts on how we perceive ourselves, both as individuals and citizens. Are media (broadcast and digital) still able to convey a sense of unity reaching large audiences, or are messages lost in the noisy crowd of mass self-communication? \"\"\""
   ]
  },
  {
   "cell_type": "code",
   "execution_count": 8,
   "id": "313ddb70-5c9a-4c2d-b6ce-a30c3bfc5278",
   "metadata": {},
   "outputs": [
    {
     "name": "stdout",
     "output_type": "stream",
     "text": [
      "The outbreak of coronavirus disease 2019 (COVID19) has created a global health crisis that has had a deep impact on way we perceive our world and our everyday lives Not only rate of contagion and patterns of transmission threatens our sense of agency but safety measures put in place to contain spread of virus also require social distancing by refraining from doing what inherently human which to find solace in company of others Within this context of physical threat social and physical distancing as well as public alarm what has been (and can be) role of different mass media channels in our lives on individual social and societal levels Mass media have long been recognized as powerful forces shaping how we experience world and ourselves This recognition accompanied by a growing volume of research that closely follows footsteps of technological transformations (eg radio movies television internet mobiles) and zeitgeist (eg cold war 9/11 climate change) in an attempt to map mass media major impacts on how we perceive ourselves both as individuals and citizens Are media (broadcast and digital) still able to convey a sense of unity reaching large audiences or are messages lost in noisy crowd of mass selfcommunication\n"
     ]
    }
   ],
   "source": [
    "def ret_doc(text):\n",
    "    words_to_remove = ['was', 'is', 'the']\n",
    "    chars_to_remove = ['.', ',', '-', '!', '?']\n",
    "\n",
    "    for char in chars_to_remove:\n",
    "        text = text.replace(char, '')\n",
    "\n",
    "    words_list = text.split()\n",
    "    filtered_words=[]\n",
    "    for word in words_list:\n",
    "        if word not in words_to_remove:\n",
    "            filtered_words.append(word)\n",
    "\n",
    "    final_text = ' '.join(filtered_words)\n",
    "    return final_text\n",
    "\n",
    "text=\"\"\"The outbreak of coronavirus disease 2019 (COVID-19) has created a global health crisis that has had a deep impact on the way we perceive our world and our everyday lives. Not only the rate of contagion and patterns of transmission threatens our sense of agency, but the safety measures put in place to contain the spread of the virus also require social distancing by refraining from doing what is inherently human, which is to find solace in the company of others. Within this context of physical threat, social and physical distancing, as well as public alarm, what has been (and can be) the role of the different mass media channels in our lives on individual, social and societal levels? Mass media have long been recognized as powerful forces shaping how we experience the world and ourselves. This recognition is accompanied by a growing volume of research, that closely follows the footsteps of technological transformations (e.g. radio, movies, television, the internet, mobiles) and the zeitgeist (e.g. cold war, 9/11, climate change) in an attempt to map mass media major impacts on how we perceive ourselves, both as individuals and citizens. Are media (broadcast and digital) still able to convey a sense of unity reaching large audiences, or are messages lost in the noisy crowd of mass self-communication? \"\"\"\n",
    "print(ret_doc(text))"
   ]
  },
  {
   "cell_type": "code",
   "execution_count": 6,
   "id": "f8c002ab-bf0f-4db9-aa4c-acbccbb33af2",
   "metadata": {},
   "outputs": [
    {
     "name": "stdout",
     "output_type": "stream",
     "text": [
      "[('of', 18), ('the', 17), ('and', 16), ('is', 14), ('in', 12), ('it', 11), ('to', 10), ('food', 9), ('junkfood', 8), ('are', 8)]\n"
     ]
    }
   ],
   "source": [
    "\n",
    "#Make a function to extract the top 10 most common words in the given text.\n",
    "#text=\"\"\"Junkfood - Food that do no good to our body. And there's no need of them in our body but still we willingly eat them because they are great in taste and easy to cook or ready to eat. Junk foods have no or very less nutritional value and irrespective of the way they are marketed, they are not healthy to consume.The only reason of their gaining popularity and increased trend of consumption is that they are ready to eat or easy to cook foods. People, of all age groups are moving towards Junkfood as it is hassle free and often ready to grab and eat. Cold drinks, chips, noodles, pizza, burgers, French fries etc. are few examples from the great variety of junk food available in the market.\n",
    "# Junkfood is the most dangerous food ever but it is pleasure in eating and it gives a great taste in mouth examples of Junkfood are kurkure and chips.. cold rings are also source of junk food... they shud nt be ate in high amounts as it results fatal to our body... it cn be eated in a limited extend ... in research its found tht ths junk foods r very dangerous fr our health\n",
    "#Junkfood is very harmful that is slowly eating away the health of the present generation. The term itself denotes how dangerous it is for our bodies. Most importantly, it tastes so good that people consume it on a daily basis. However, not much awareness is spread about the harmful effects of Junkfood .\n",
    "#The problem is more serious than you think. Various studies show that Junkfood impacts our health negatively. They contain higher levels of calories, fats, and sugar. On the contrary, they have very low amounts of healthy nutrients and lack dietary fibers. Parents must discourage their children from consuming junk food because of the ill effects it has on one’s health.\n",
    "#Junkfood is the easiest way to gain unhealthy weight. The amount of fats and sugar in the food makes you gain weight rapidly. However, this is not a healthy weight. It is more of fats and cholesterol which will have a harmful impact on your health. Junk food is also one of the main reasons for the increase in obesity nowadays.\n",
    "#This food only looks and tastes good, other than that, it has no positive points. The amount of calorie your body requires to stay fit is not fulfilled by this food. For instance, foods like French fries, burgers, candy, and cookies, all have high amounts of sugar and fats. Therefore, this can result in long-term illnesses like diabetes and high blood pressure. This may also result in kidney failure.\"\"\"\n",
    "\n",
    "def remove_punct(text):\n",
    "    punc_list=['.', ',', '-', '!', '?']\n",
    "    for punct in punc_list:\n",
    "        text = text.replace(punct, '')\n",
    "    return text\n",
    "\n",
    "def top_words(text):\n",
    "    text=remove_punct(text)\n",
    "    text = text.lower()\n",
    "    text_list = text.split()\n",
    "    mydict = {}\n",
    "    for word in text_list:\n",
    "        if word not in mydict:\n",
    "            mydict[word] = text_list.count(word)\n",
    "    sorted_dict = sorted(mydict.items(), key=lambda x: x[1], reverse=True)\n",
    "    return sorted_dict[:10]\n",
    "    \n",
    "text=\"\"\"Junkfood - Food that do no good to our body. And there's no need of them in our body but still we willingly eat them because they are great in taste and easy to cook or ready to eat. Junk foods have no or very less nutritional value and irrespective of the way they are marketed, they are not healthy to consume.The only reason of their gaining popularity and increased trend of consumption is that they are ready to eat or easy to cook foods. People, of all age groups are moving towards Junkfood as it is hassle free and often ready to grab and eat. Cold drinks, chips, noodles, pizza, burgers, French fries etc. are few examples from the great variety of junk food available in the market.\n",
    " Junkfood is the most dangerous food ever but it is pleasure in eating and it gives a great taste in mouth examples of Junkfood are kurkure and chips.. cold rings are also source of junk food... they shud nt be ate in high amounts as it results fatal to our body... it cn be eated in a limited extend ... in research its found tht ths junk foods r very dangerous fr our health\n",
    "Junkfood is very harmful that is slowly eating away the health of the present generation. The term itself denotes how dangerous it is for our bodies. Most importantly, it tastes so good that people consume it on a daily basis. However, not much awareness is spread about the harmful effects of Junkfood .\n",
    "The problem is more serious than you think. Various studies show that Junkfood impacts our health negatively. They contain higher levels of calories, fats, and sugar. On the contrary, they have very low amounts of healthy nutrients and lack dietary fibers. Parents must discourage their children from consuming junk food because of the ill effects it has on one’s health.\n",
    "Junkfood is the easiest way to gain unhealthy weight. The amount of fats and sugar in the food makes you gain weight rapidly. However, this is not a healthy weight. It is more of fats and cholesterol which will have a harmful impact on your health. Junk food is also one of the main reasons for the increase in obesity nowadays.\n",
    "This food only looks and tastes good, other than that, it has no positive points. The amount of calorie your body requires to stay fit is not fulfilled by this food. For instance, foods like French fries, burgers, candy, and cookies, all have high amounts of sugar and fats. Therefore, this can result in long-term illnesses like diabetes and high blood pressure. This may also result in kidney failure.\"\"\"\n",
    "\n",
    "print(top_words(text))"
   ]
  },
  {
   "cell_type": "code",
   "execution_count": 3,
   "id": "d5670615-5a9b-4aaf-b6b1-3ecff38c480f",
   "metadata": {},
   "outputs": [
    {
     "name": "stdout",
     "output_type": "stream",
     "text": [
      "UNKNOWN was arrested yesterday at UNKNOWN for murder. The suspicions and fingerprints pointed to UNKNOWN and his friend UNKNOWN The arrest was made by inspector UNKNOWN\n"
     ]
    }
   ],
   "source": [
    "\"\"\"\n",
    "Make function to replace all names of people in the text with ‘UNKNOWN’\n",
    "news=\" Walter was arrested yesterday at Brooklyn for murder. The suspicions and fingerprints pointed to Walter  and his friend  Pinkman . The arrest was made by inspector Hank\"\n",
    "\"\"\"\n",
    "def replace_names(text):\n",
    "    words = text.split()\n",
    "    ignored_words = ['The']\n",
    "    replaced_words = []\n",
    "    for word in words:\n",
    "        if word.istitle() and word not in ignored_words:\n",
    "            replaced_words.append('UNKNOWN')\n",
    "        else:\n",
    "            replaced_words.append(word)\n",
    "            \n",
    "    replaced_text = ' '.join(replaced_words)  \n",
    "    return replaced_text\n",
    "\n",
    "news=\" Walter was arrested yesterday at Brooklyn for murder. The suspicions and fingerprints pointed to Walter and his friend Pinkman. The arrest was made by inspector Hank\"\n",
    "print(replace_names(news))\n"
   ]
  },
  {
   "cell_type": "code",
   "execution_count": 1,
   "id": "02221a3b-c5b0-4131-baaa-a17c4593b4b3",
   "metadata": {},
   "outputs": [
    {
     "data": {
      "text/plain": [
       "\"['adadad', 'weweewewee']\""
      ]
     },
     "execution_count": 1,
     "metadata": {},
     "output_type": "execute_result"
    }
   ],
   "source": [
    "mylist=['adadad', 'weweewewee']\n",
    "mystr=str(mylist)\n",
    "mystr"
   ]
  },
  {
   "cell_type": "code",
   "execution_count": null,
   "id": "bc193918-3255-4afc-a485-b058c63e889f",
   "metadata": {},
   "outputs": [],
   "source": []
  }
 ],
 "metadata": {
  "kernelspec": {
   "display_name": "Python 3 (ipykernel)",
   "language": "python",
   "name": "python3"
  },
  "language_info": {
   "codemirror_mode": {
    "name": "ipython",
    "version": 3
   },
   "file_extension": ".py",
   "mimetype": "text/x-python",
   "name": "python",
   "nbconvert_exporter": "python",
   "pygments_lexer": "ipython3",
   "version": "3.11.4"
  }
 },
 "nbformat": 4,
 "nbformat_minor": 5
}
