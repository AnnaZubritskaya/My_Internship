{
 "cells": [
  {
   "cell_type": "code",
   "execution_count": 1,
   "id": "8393a494-8d1e-43cf-bedb-3a983a240964",
   "metadata": {},
   "outputs": [
    {
     "name": "stdin",
     "output_type": "stream",
     "text": [
      "Input a key:  5\n"
     ]
    },
    {
     "name": "stdout",
     "output_type": "stream",
     "text": [
      "No, it does not exist\n",
      "No, it does not exist\n"
     ]
    }
   ],
   "source": [
    "#Write a Python script to check whether a given key already exists in a dictionary.\n",
    "my_dict={1: \"a\", 2: \"b\", 3: \"c\"}\n",
    "key=int(input(\"Input a key: \"))\n",
    "\"\"\"\n",
    "for i in my_dict.keys():\n",
    "    if key in my_dict:\n",
    "        print(\"Yes, it exists\")\n",
    "        break \n",
    "    print(\"No, it does not exist\")\n",
    "\"\"\"\n",
    "\n",
    "if key in my_dict.keys():\n",
    "    print(\"Yes, it exists\")\n",
    "else:\n",
    "    print(\"No, it does not exist\")\n",
    "\n",
    "print(\"Yes, it exists\" if key in my_dict.keys() else \"No, it does not exist\")"
   ]
  },
  {
   "cell_type": "code",
   "execution_count": 2,
   "id": "4f830c47-05ba-4080-a018-a18713ff28f6",
   "metadata": {},
   "outputs": [
    {
     "name": "stdin",
     "output_type": "stream",
     "text": [
      "Enter first number: 1\n",
      "Enter second number: 2\n"
     ]
    },
    {
     "name": "stdout",
     "output_type": "stream",
     "text": [
      "[1, 4]\n"
     ]
    }
   ],
   "source": [
    "#Write a Python function to create and print a list where the values are the squares of numbers between 1 and 30 (both included)\n",
    "\n",
    "def create_list(val_1, val_2):\n",
    "    mylist=[]\n",
    "    for i in range(val_1,val_2+1):\n",
    "        mylist.append(i**2)\n",
    "    return mylist\n",
    "\n",
    "val_1=int(input(\"Enter first number:\"))\n",
    "val_2=int(input(\"Enter second number:\"))\n",
    "print(create_list(val_1, val_2))"
   ]
  },
  {
   "cell_type": "code",
   "execution_count": 3,
   "id": "dccb414e-b9d4-431d-9997-46c0adfa25d4",
   "metadata": {},
   "outputs": [
    {
     "ename": "SyntaxError",
     "evalue": "positional argument follows keyword argument (3510245136.py, line 4)",
     "output_type": "error",
     "traceback": [
      "\u001b[1;36m  Cell \u001b[1;32mIn[3], line 4\u001b[1;36m\u001b[0m\n\u001b[1;33m    func(age=23, \"emma\")\u001b[0m\n\u001b[1;37m                       ^\u001b[0m\n\u001b[1;31mSyntaxError\u001b[0m\u001b[1;31m:\u001b[0m positional argument follows keyword argument\n"
     ]
    }
   ],
   "source": [
    "def func(name, age):\n",
    "    print(name, age)\n",
    "\n",
    "func(age=23, \"emma\")"
   ]
  },
  {
   "cell_type": "code",
   "execution_count": null,
   "id": "7604e694-a211-4595-ba6c-7acfe71a2479",
   "metadata": {},
   "outputs": [],
   "source": [
    "def display(**kwargs):\n",
    "    for i in kwargs:\n",
    "        print(i)\n",
    "\n",
    "display(emp=\"Kelly\", salary=9000)"
   ]
  },
  {
   "cell_type": "code",
   "execution_count": null,
   "id": "7e405214-12d7-42e4-8027-04715b19c315",
   "metadata": {},
   "outputs": [],
   "source": [
    "def fun1(name, age=20):\n",
    "    print(name, age)\n",
    "\n",
    "fun1('Emma', 25)"
   ]
  },
  {
   "cell_type": "code",
   "execution_count": null,
   "id": "176652d3-a93d-4ea3-93de-f7e88fcf6385",
   "metadata": {},
   "outputs": [],
   "source": [
    "def display_person(*args):\n",
    "    for i in args:\n",
    "        print(i)\n",
    "\n",
    "display_person(name=\"Emma\", age=\"25\")"
   ]
  },
  {
   "cell_type": "code",
   "execution_count": null,
   "id": "38495228-490c-4b0f-81bb-3d03437bd1a8",
   "metadata": {},
   "outputs": [],
   "source": [
    "def outer_fun(a, b):\n",
    "    def inner_fun(c, d):\n",
    "        return c + d\n",
    "    return inner_fun(a, b)\n",
    "\n",
    "res = outer_fun(5, 10)\n",
    "print(res)"
   ]
  },
  {
   "cell_type": "code",
   "execution_count": null,
   "id": "e7c11c20-f1d8-4348-b9f7-2014ec82e327",
   "metadata": {},
   "outputs": [],
   "source": [
    "def fun1(num):\n",
    "    return num + 25\n",
    "\n",
    "fun1(5)\n",
    "print(num)"
   ]
  },
  {
   "cell_type": "code",
   "execution_count": null,
   "id": "9c64d2f6-aead-40d8-88c5-2c560366d993",
   "metadata": {},
   "outputs": [],
   "source": [
    "def add(a, b):\n",
    "    return a+5, b+5\n",
    "\n",
    "result = add(3, 2)\n",
    "print(result)"
   ]
  },
  {
   "cell_type": "code",
   "execution_count": null,
   "id": "1a4ffbeb-6a62-493c-8990-2a01ccc2c517",
   "metadata": {},
   "outputs": [],
   "source": [
    "def outer_fun(a, b):\n",
    "    def inner_fun(c, d):\n",
    "        return c + d\n",
    "\n",
    "    return inner_fun(a, b)\n",
    "    return a\n",
    "\n",
    "result = outer_fun(5, 10)\n",
    "print(result)"
   ]
  },
  {
   "cell_type": "code",
   "execution_count": null,
   "id": "843560bf-20f6-4fba-b6d3-178f7384af37",
   "metadata": {},
   "outputs": [],
   "source": [
    "x = 0\n",
    "while x < 10:\n",
    "    x = x + 1\n",
    "\n",
    "x"
   ]
  },
  {
   "cell_type": "code",
   "execution_count": null,
   "id": "5168d232-8ef9-4d55-bea7-c823160854c1",
   "metadata": {},
   "outputs": [],
   "source": [
    "x = 0\n",
    "for i in range(3):\n",
    "    x = x + i\n",
    "    print(i)\n",
    "\n",
    "x"
   ]
  },
  {
   "cell_type": "code",
   "execution_count": null,
   "id": "240e2d09-eba1-4249-a7b6-7c894c3c74fa",
   "metadata": {},
   "outputs": [],
   "source": [
    "def some_thing(number1, number2):\n",
    "    first_value = number1 + 8\n",
    "    second_value = number2 - 5\n",
    "    return first_value\n",
    "\n",
    "some_thing(13, 10)"
   ]
  },
  {
   "cell_type": "code",
   "execution_count": null,
   "id": "756430b8-52f4-499f-8a64-215d5a34e303",
   "metadata": {},
   "outputs": [],
   "source": [
    "def some_thing(number1, number2):\n",
    "    first_value = number1 + 8\n",
    "    second_value = number2 - 5\n",
    "    temp_value = other_thing(second_value)\n",
    "    return temp_value\n",
    "\n",
    "def other_thing(another_value):\n",
    "    return (another_value + 5) * 3\n",
    "\n",
    "some_thing(13, 10)\n",
    "print(second_value)"
   ]
  },
  {
   "cell_type": "code",
   "execution_count": null,
   "id": "29398544-4724-4d64-8d84-3220cdc41195",
   "metadata": {},
   "outputs": [],
   "source": [
    "def surprising_function(value):\n",
    "    thing = 0\n",
    "    for counter in range(value+1):\n",
    "        thing = thing + counter\n",
    "    return thing\n",
    "\n",
    "print(surprising_function(5))"
   ]
  },
  {
   "cell_type": "code",
   "execution_count": null,
   "id": "fe5480a4-58eb-46d8-87be-5450f05b5881",
   "metadata": {},
   "outputs": [],
   "source": [
    "def a(num):\n",
    "    num=num+1\n",
    "\n",
    "a(5)"
   ]
  },
  {
   "cell_type": "code",
   "execution_count": null,
   "id": "6eb7e93f-39aa-430d-9b21-76f07d1fb257",
   "metadata": {},
   "outputs": [],
   "source": [
    "def func():\n",
    "    print('Hi')\n"
   ]
  },
  {
   "cell_type": "code",
   "execution_count": null,
   "id": "add3e371-3432-428a-9beb-cd81aa22cba9",
   "metadata": {},
   "outputs": [],
   "source": [
    "def func(n):\n",
    "    print(n**2,end=\" \")\n",
    "func(4)\n",
    "print(n)"
   ]
  },
  {
   "cell_type": "code",
   "execution_count": 7,
   "id": "a97565e2-a67b-47cc-ae3e-da2d74eab4fa",
   "metadata": {},
   "outputs": [
    {
     "data": {
      "text/plain": [
       "4"
      ]
     },
     "execution_count": 7,
     "metadata": {},
     "output_type": "execute_result"
    }
   ],
   "source": [
    "fun=lambda x: x if x>=0 else -x \n",
    "fun(-4)"
   ]
  },
  {
   "cell_type": "code",
   "execution_count": 8,
   "id": "8e9bed19-2e4b-4cd8-8edc-b76189a846c3",
   "metadata": {},
   "outputs": [
    {
     "data": {
      "text/plain": [
       "'i'"
      ]
     },
     "execution_count": 8,
     "metadata": {},
     "output_type": "execute_result"
    }
   ],
   "source": [
    "def func(c):\n",
    "    if(c in 'aeiou'):\n",
    "        return c\n",
    "    return 'end'\n",
    "func('i')"
   ]
  },
  {
   "cell_type": "code",
   "execution_count": 9,
   "id": "b2112e6b-b26d-429e-bdb2-7677e501337a",
   "metadata": {},
   "outputs": [
    {
     "ename": "SyntaxError",
     "evalue": "non-default argument follows default argument (1050328770.py, line 1)",
     "output_type": "error",
     "traceback": [
      "\u001b[1;36m  Cell \u001b[1;32mIn[9], line 1\u001b[1;36m\u001b[0m\n\u001b[1;33m    def fun(x,y=0,z):\u001b[0m\n\u001b[1;37m                  ^\u001b[0m\n\u001b[1;31mSyntaxError\u001b[0m\u001b[1;31m:\u001b[0m non-default argument follows default argument\n"
     ]
    }
   ],
   "source": [
    "def fun(x,y=0,z):\n",
    "    print(x-y+z)\n",
    "fun(1,23)"
   ]
  },
  {
   "cell_type": "code",
   "execution_count": 12,
   "id": "787fac19-8b24-4f4a-b333-5665535a384f",
   "metadata": {},
   "outputs": [
    {
     "name": "stdout",
     "output_type": "stream",
     "text": [
      "None\n"
     ]
    }
   ],
   "source": [
    "def a():\n",
    "    pass\n",
    "\n",
    "a()\n",
    "print(a())"
   ]
  },
  {
   "cell_type": "code",
   "execution_count": 14,
   "id": "b15a9c32-5f50-4ad6-ba16-2970e11b719e",
   "metadata": {},
   "outputs": [
    {
     "name": "stdout",
     "output_type": "stream",
     "text": [
      "1 4 9 "
     ]
    }
   ],
   "source": [
    "def fun(lst):\n",
    "    def func(n):\n",
    "        s=0\n",
    "        for i in range(0,n+1):\n",
    "            s=s+lst[i]\n",
    "        return s\n",
    "    for i in range(len(lst)):\n",
    "        print(func(i),end=' ')\n",
    "fun([1,3,5])"
   ]
  },
  {
   "cell_type": "code",
   "execution_count": 17,
   "id": "6d2bbfa4-e2c1-44ce-a544-e46fb616fc27",
   "metadata": {},
   "outputs": [
    {
     "name": "stdout",
     "output_type": "stream",
     "text": [
      "<map object at 0x000001BB8505A290>\n",
      "<filter object at 0x000001BB85058D00>\n"
     ]
    }
   ],
   "source": [
    "print(map(lambda x,y: x if x<y else y,[-3,2,9,0]))\n",
    "print(filter(lambda x,y: x if x<y else y,[-3,2,9,0]))"
   ]
  },
  {
   "cell_type": "code",
   "execution_count": 18,
   "id": "4f45da7b-4f41-40bb-89e8-3696f30cfc97",
   "metadata": {},
   "outputs": [
    {
     "ename": "NameError",
     "evalue": "name 'reduce' is not defined",
     "output_type": "error",
     "traceback": [
      "\u001b[1;31m---------------------------------------------------------------------------\u001b[0m",
      "\u001b[1;31mNameError\u001b[0m                                 Traceback (most recent call last)",
      "Cell \u001b[1;32mIn[18], line 1\u001b[0m\n\u001b[1;32m----> 1\u001b[0m \u001b[38;5;28mprint\u001b[39m(\u001b[43mreduce\u001b[49m(\u001b[38;5;28;01mlambda\u001b[39;00m x,y: x \u001b[38;5;28;01mif\u001b[39;00m x\u001b[38;5;241m<\u001b[39my \u001b[38;5;28;01melse\u001b[39;00m y,[\u001b[38;5;241m-\u001b[39m\u001b[38;5;241m3\u001b[39m,\u001b[38;5;241m2\u001b[39m,\u001b[38;5;241m9\u001b[39m,\u001b[38;5;241m0\u001b[39m]))\n",
      "\u001b[1;31mNameError\u001b[0m: name 'reduce' is not defined"
     ]
    }
   ],
   "source": [
    "print(reduce(lambda x,y: x if x<y else y,[-3,2,9,0]))"
   ]
  },
  {
   "cell_type": "code",
   "execution_count": 19,
   "id": "05f83609-352f-4ebe-9eca-8fdba4f981a7",
   "metadata": {},
   "outputs": [
    {
     "name": "stdout",
     "output_type": "stream",
     "text": [
      "Hello 1 Miller\n"
     ]
    }
   ],
   "source": [
    "def say_hello(title, name):\n",
    "    print(\"Hello\", title, name)\n",
    "\n",
    "say_hello(1, \"Miller\")"
   ]
  },
  {
   "cell_type": "code",
   "execution_count": null,
   "id": "0d4fcd66-63ad-4a5b-83f7-a3f4d6f4318a",
   "metadata": {},
   "outputs": [],
   "source": []
  }
 ],
 "metadata": {
  "kernelspec": {
   "display_name": "Python 3 (ipykernel)",
   "language": "python",
   "name": "python3"
  },
  "language_info": {
   "codemirror_mode": {
    "name": "ipython",
    "version": 3
   },
   "file_extension": ".py",
   "mimetype": "text/x-python",
   "name": "python",
   "nbconvert_exporter": "python",
   "pygments_lexer": "ipython3",
   "version": "3.11.4"
  }
 },
 "nbformat": 4,
 "nbformat_minor": 5
}
