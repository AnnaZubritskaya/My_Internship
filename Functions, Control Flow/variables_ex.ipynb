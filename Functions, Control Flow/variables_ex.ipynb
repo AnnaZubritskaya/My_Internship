{
 "cells": [
  {
   "cell_type": "code",
   "execution_count": 1,
   "id": "0884a224-fe3a-4cdc-b48c-0b0c93d402b4",
   "metadata": {},
   "outputs": [
    {
     "name": "stdout",
     "output_type": "stream",
     "text": [
      "Hello World\n"
     ]
    }
   ],
   "source": [
    "print (\"Hello World\")\n",
    "# Notice that NO semi-colon is to be used"
   ]
  },
  {
   "cell_type": "code",
   "execution_count": 2,
   "id": "db975736-53a5-43ea-aad3-42dff2403b27",
   "metadata": {},
   "outputs": [
    {
     "name": "stdout",
     "output_type": "stream",
     "text": [
      "3\n",
      "4\n"
     ]
    }
   ],
   "source": [
    "a = 3\n",
    "A = 4\n",
    "print (a)\n",
    "print (A)"
   ]
  },
  {
   "cell_type": "code",
   "execution_count": 3,
   "id": "533101e3-aadb-45c7-ab13-90bbffee83db",
   "metadata": {},
   "outputs": [
    {
     "name": "stdout",
     "output_type": "stream",
     "text": [
      "5\n",
      "6\n"
     ]
    }
   ],
   "source": [
    "a = 2\n",
    "b = 3\n",
    "c = a + b\n",
    "print (c)\n",
    "d = a * b\n",
    "print (d)"
   ]
  },
  {
   "cell_type": "code",
   "execution_count": 4,
   "id": "3baf9e9b-b5d7-4c39-a959-e4f1dadd1a47",
   "metadata": {},
   "outputs": [
    {
     "name": "stdout",
     "output_type": "stream",
     "text": [
      "b is divisible by a\n"
     ]
    }
   ],
   "source": [
    "a = 3\n",
    "b = 9\n",
    "if b % a == 0 :\n",
    "\tprint (\"b is divisible by a\")\n",
    "elif b + 1 == 10:\n",
    "\tprint (\"Increment in b produces 10\")\n",
    "else:\n",
    "\tprint (\"You are in else statement\")"
   ]
  },
  {
   "cell_type": "code",
   "execution_count": 5,
   "id": "64b84b10-02fd-4bea-bf96-25ada6bc701a",
   "metadata": {},
   "outputs": [
    {
     "name": "stdout",
     "output_type": "stream",
     "text": [
      "a is divisible by b\n"
     ]
    }
   ],
   "source": [
    "# Function for checking the divisibility\n",
    "# Notice the indentation after function declaration\n",
    "# and if and else statements\n",
    "def checkDivisibility(a, b):\n",
    "\tif a % b == 0 :\n",
    "\t\tprint (\"a is divisible by b\")\n",
    "\telse:\n",
    "\t\tprint (\"a is not divisible by b\")\n",
    "#Driver program to test the above function\n",
    "checkDivisibility(4, 2)"
   ]
  },
  {
   "cell_type": "code",
   "execution_count": 6,
   "id": "b19a7c67-4e78-4028-9151-6a58c374e07f",
   "metadata": {},
   "outputs": [
    {
     "name": "stdout",
     "output_type": "stream",
     "text": [
      "5\n",
      "John\n"
     ]
    }
   ],
   "source": [
    "x = 5\n",
    "y = \"John\"\n",
    "print(x)\n",
    "print(y)"
   ]
  },
  {
   "cell_type": "code",
   "execution_count": 7,
   "id": "ea653ee4-79d9-444d-bce1-9571748709e0",
   "metadata": {},
   "outputs": [
    {
     "name": "stdout",
     "output_type": "stream",
     "text": [
      "Sally\n"
     ]
    }
   ],
   "source": [
    "x = 4       # x is of type int\n",
    "x = \"Sally\" # x is now of type str\n",
    "print(x)"
   ]
  },
  {
   "cell_type": "code",
   "execution_count": 10,
   "id": "af153dc1-f775-4b0d-aa5d-368a823be99b",
   "metadata": {},
   "outputs": [
    {
     "name": "stdout",
     "output_type": "stream",
     "text": [
      "3 3 3.0\n"
     ]
    }
   ],
   "source": [
    "x = str(3)    # x will be '3'\n",
    "y = int(3)    # y will be 3\n",
    "z = float(3)  # z will be 3.0\n",
    "print(x,y,z)"
   ]
  },
  {
   "cell_type": "code",
   "execution_count": 13,
   "id": "c4660d48-1644-458c-a46d-b8dfdd21f4a4",
   "metadata": {},
   "outputs": [
    {
     "name": "stdout",
     "output_type": "stream",
     "text": [
      "<class 'int'>\n",
      "<class 'str'>\n"
     ]
    }
   ],
   "source": [
    "x = 5\n",
    "y = \"John\"\n",
    "print(type(x))\n",
    "print(type(y))"
   ]
  },
  {
   "cell_type": "code",
   "execution_count": null,
   "id": "9abfad4b-8298-4b2d-a5b4-378db335c7b7",
   "metadata": {},
   "outputs": [],
   "source": []
  }
 ],
 "metadata": {
  "kernelspec": {
   "display_name": "Python 3 (ipykernel)",
   "language": "python",
   "name": "python3"
  },
  "language_info": {
   "codemirror_mode": {
    "name": "ipython",
    "version": 3
   },
   "file_extension": ".py",
   "mimetype": "text/x-python",
   "name": "python",
   "nbconvert_exporter": "python",
   "pygments_lexer": "ipython3",
   "version": "3.11.4"
  }
 },
 "nbformat": 4,
 "nbformat_minor": 5
}
