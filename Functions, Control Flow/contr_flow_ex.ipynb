{
 "cells": [
  {
   "cell_type": "code",
   "execution_count": 1,
   "id": "9f7fbf52-c59c-4a71-bc11-3ea00c434ff2",
   "metadata": {},
   "outputs": [
    {
     "name": "stdout",
     "output_type": "stream",
     "text": [
      "Subtraction is :  10\n"
     ]
    }
   ],
   "source": [
    "## This is a Sequential statement\n",
    " \n",
    "a=20\n",
    "b=10\n",
    "c=a-b\n",
    "print(\"Subtraction is : \",c)"
   ]
  },
  {
   "cell_type": "code",
   "execution_count": 5,
   "id": "978a376c-77ad-4b02-bb25-e0d747dfc1bb",
   "metadata": {},
   "outputs": [
    {
     "name": "stdout",
     "output_type": "stream",
     "text": [
      "n is an even number\n"
     ]
    }
   ],
   "source": [
    "n = 10\n",
    "if n % 2 == 0:\n",
    "   print(\"n is an even number\")"
   ]
  },
  {
   "cell_type": "code",
   "execution_count": 3,
   "id": "9f459ed5-3496-4113-be01-c1c0ba8658d0",
   "metadata": {},
   "outputs": [
    {
     "name": "stdout",
     "output_type": "stream",
     "text": [
      "n is odd\n"
     ]
    }
   ],
   "source": [
    "n = 5\n",
    "if n % 2 == 0:\n",
    "   print(\"n is even\")\n",
    "else:\n",
    "   print(\"n is odd\")"
   ]
  },
  {
   "cell_type": "code",
   "execution_count": 4,
   "id": "3828d381-0a4f-4b30-a56b-b23cfc19a3a5",
   "metadata": {},
   "outputs": [
    {
     "name": "stdout",
     "output_type": "stream",
     "text": [
      "c is big\n"
     ]
    }
   ],
   "source": [
    "a = 5\n",
    "b = 10\n",
    "c = 15\n",
    "if a > b:\n",
    "   if a > c:\n",
    "      print(\"a value is big\")\n",
    "   else:\n",
    "       print(\"c value is big\")\n",
    "elif b > c:\n",
    "    print(\"b value is big\")\n",
    "else:\n",
    "     print(\"c is big\")"
   ]
  },
  {
   "cell_type": "code",
   "execution_count": 6,
   "id": "03675da4-d7b9-4f12-b3ea-f06fb5e32dc8",
   "metadata": {},
   "outputs": [
    {
     "name": "stdout",
     "output_type": "stream",
     "text": [
      "x is greater than y\n"
     ]
    }
   ],
   "source": [
    "x = 15\n",
    "y = 12\n",
    "if x == y:\n",
    "   print(\"Both are Equal\")\n",
    "elif x > y:\n",
    "    print(\"x is greater than y\")\n",
    "else:\n",
    "    print(\"x is smaller than y\")"
   ]
  },
  {
   "cell_type": "code",
   "execution_count": 7,
   "id": "6a553895-96bb-4754-839e-14fc692877f7",
   "metadata": {},
   "outputs": [
    {
     "name": "stdout",
     "output_type": "stream",
     "text": [
      "1st example\n",
      "1 \n",
      "2 \n",
      "3 \n",
      "2nd example\n",
      "0 \n",
      "1 \n",
      "2 \n",
      "3 \n",
      "4 \n"
     ]
    }
   ],
   "source": [
    "print(\"1st example\")\n",
    "\n",
    "lst = [1, 2, 3]\n",
    "for i in range(len(lst)):\n",
    "     print(lst[i], end = \" \\n\")\n",
    " \n",
    "print(\"2nd example\")\n",
    "\n",
    "for j in range(0,5):\n",
    "    print(j, end = \" \\n\")"
   ]
  },
  {
   "cell_type": "code",
   "execution_count": 8,
   "id": "8351f9e8-e248-492f-a217-712bcb766a88",
   "metadata": {},
   "outputs": [
    {
     "name": "stdout",
     "output_type": "stream",
     "text": [
      "0 1 2 3 4 End\n"
     ]
    }
   ],
   "source": [
    "m = 5\n",
    "i = 0\n",
    "while i < m:\n",
    "     print(i, end = \" \")\n",
    "     i = i + 1\n",
    "print(\"End\")"
   ]
  },
  {
   "cell_type": "code",
   "execution_count": 9,
   "id": "f00dcca6-e7c0-468f-8bab-bdcb400be6d3",
   "metadata": {},
   "outputs": [
    {
     "name": "stdout",
     "output_type": "stream",
     "text": [
      "kid\n",
      "kid\n"
     ]
    }
   ],
   "source": [
    "#ternary operation!\n",
    ">>> age = 15\n",
    "\n",
    ">>> # this if statement:\n",
    ">>> if age < 18:\n",
    "...    print('kid')\n",
    "... else:\n",
    "...    print('adult')\n",
    "...\n",
    "# output: kid\n",
    "\n",
    ">>> # is equivalent to this ternary operator:\n",
    ">>> print('kid' if age < 18 else 'adult')\n",
    "# output: kid"
   ]
  },
  {
   "cell_type": "code",
   "execution_count": 12,
   "id": "c7704572-b594-435f-b643-a89eb4e068a2",
   "metadata": {},
   "outputs": [
    {
     "name": "stdout",
     "output_type": "stream",
     "text": [
      "teen\n",
      "teen\n"
     ]
    }
   ],
   "source": [
    ">>> age = 13\n",
    "\n",
    ">>> # this ternary operator:\n",
    ">>> print('kid' if age < 13 else 'teen' if age < 18 else 'adult')\n",
    "\n",
    ">>> # is equivalent to this if statement:\n",
    ">>> if age < 18:\n",
    "...     if age < 13:\n",
    "...         print('kid')\n",
    "...     else:\n",
    "...         print('teen')\n",
    "... else:\n",
    "...     print('adult')\n",
    "...\n",
    "# output: teen"
   ]
  },
  {
   "cell_type": "code",
   "execution_count": 13,
   "id": "93babef0-af38-4dc5-bf86-9631530a6d12",
   "metadata": {},
   "outputs": [
    {
     "name": "stdout",
     "output_type": "stream",
     "text": [
      "Created\n"
     ]
    }
   ],
   "source": [
    ">>> response_code = 201\n",
    ">>> match response_code:\n",
    "...     case 200:\n",
    "...         print(\"OK\")\n",
    "...     case 201:\n",
    "...         print(\"Created\")\n",
    "...     case 300:\n",
    "...         print(\"Multiple Choices\")\n",
    "...     case 307:\n",
    "...         print(\"Temporary Redirect\")\n",
    "...     case 404:\n",
    "...         print(\"404 Not Found\")\n",
    "...     case 500:\n",
    "...         print(\"Internal Server Error\")\n",
    "...     case 502:\n",
    "...         print(\"502 Bad Gateway\")\n",
    "...\n",
    "# Created"
   ]
  },
  {
   "cell_type": "code",
   "execution_count": 14,
   "id": "9e0b8ef8-6060-458e-aee9-b1255ddc3923",
   "metadata": {},
   "outputs": [
    {
     "name": "stdout",
     "output_type": "stream",
     "text": [
      "Internal Server Error\n"
     ]
    }
   ],
   "source": [
    ">>> response_code = 502\n",
    ">>> match response_code:\n",
    "...     case 200 | 201:\n",
    "...         print(\"OK\")\n",
    "...     case 300 | 307:\n",
    "...         print(\"Redirect\")\n",
    "...     case 400 | 401:\n",
    "...         print(\"Bad Request\")\n",
    "...     case 500 | 502:\n",
    "...         print(\"Internal Server Error\")\n",
    "...\n",
    "# Internal Server Error"
   ]
  },
  {
   "cell_type": "code",
   "execution_count": 15,
   "id": "0d149bd0-560d-490b-97dd-4e598cd0c2e7",
   "metadata": {},
   "outputs": [
    {
     "name": "stdout",
     "output_type": "stream",
     "text": [
      "All responses: 200, 300, [404, 500]\n"
     ]
    }
   ],
   "source": [
    ">>> today_responses = [200, 300, 404, 500]\n",
    ">>> match today_responses:\n",
    "...     case [a]:\n",
    "...             print(f\"One response today: {a}\")\n",
    "...     case [a, b]:\n",
    "...             print(f\"Two responses today: {a} and {b}\")\n",
    "...     case [a, b, *rest]:\n",
    "...             print(f\"All responses: {a}, {b}, {rest}\")\n",
    "...\n",
    "# All responses: 200, 300, [404, 500]"
   ]
  },
  {
   "cell_type": "code",
   "execution_count": 17,
   "id": "709ea50c-e00a-4051-80e8-a2ac1843158f",
   "metadata": {},
   "outputs": [
    {
     "name": "stdout",
     "output_type": "stream",
     "text": [
      "Invalid Code\n"
     ]
    }
   ],
   "source": [
    "#The underscore symbol (_) is used to define a default case:\n",
    "\n",
    "response_code = 800\n",
    "match response_code:\n",
    "     case 200 | 201:\n",
    "         print(\"OK\")\n",
    "     case 300 | 307:\n",
    "         print(\"Redirect\")\n",
    "     case 400 | 401:\n",
    "         print(\"Bad Request\")\n",
    "     case 500 | 502:\n",
    "         print(\"Internal Server Error\")\n",
    "     case _:\n",
    "         print(\"Invalid Code\")\n",
    "\n",
    "# Invalid Code"
   ]
  },
  {
   "cell_type": "code",
   "execution_count": 18,
   "id": "94f772fc-5eee-4c2b-8daf-76dbfa614499",
   "metadata": {},
   "outputs": [
    {
     "name": "stdout",
     "output_type": "stream",
     "text": [
      "Code is a string\n"
     ]
    }
   ],
   "source": [
    ">>> response_code = \"300\"\n",
    ">>> match response_code:\n",
    "...     case int():\n",
    "...             print('Code is a number')\n",
    "...     case str():\n",
    "...             print('Code is a string')\n",
    "...     case _:\n",
    "...             print('Code is neither a string nor a number')\n",
    "...\n",
    "# Code is a string"
   ]
  },
  {
   "cell_type": "code",
   "execution_count": 19,
   "id": "a57e2de1-7d67-4e3c-bdad-2a58d5480538",
   "metadata": {},
   "outputs": [
    {
     "name": "stdin",
     "output_type": "stream",
     "text": [
      "Who are you?  f\n",
      "Who are you?  s\n",
      "Who are you?  Joe\n",
      "Password? (It is a fish.):  sword\n",
      "Who are you?  Joe\n",
      "Password? (It is a fish.):  swordfish\n"
     ]
    },
    {
     "name": "stdout",
     "output_type": "stream",
     "text": [
      "Access granted.\n"
     ]
    }
   ],
   "source": [
    ">>> while True:\n",
    "...     name = input('Who are you? ')\n",
    "...     if name != 'Joe':\n",
    "...         continue\n",
    "...     password = input('Password? (It is a fish.): ')\n",
    "...     if password == 'swordfish':\n",
    "...         break\n",
    "...\n",
    ">>> print('Access granted.')\n",
    "# Who are you? Charles\n",
    "# Who are you? Debora\n",
    "# Who are you? Joe\n",
    "# Password? (It is a fish.): swordfish\n",
    "# Access granted."
   ]
  },
  {
   "cell_type": "code",
   "execution_count": 20,
   "id": "115576e7-4e32-4481-be67-ba14cca201fb",
   "metadata": {},
   "outputs": [
    {
     "name": "stdout",
     "output_type": "stream",
     "text": [
      "0\n",
      "2\n",
      "4\n",
      "6\n",
      "8\n"
     ]
    }
   ],
   "source": [
    "# range(start, stop, step)\n",
    ">>> for i in range(0, 10, 2):\n",
    "...    print(i)\n",
    "...\n",
    "# 0\n",
    "# 2\n",
    "# 4\n",
    "# 6\n",
    "# 8"
   ]
  },
  {
   "cell_type": "code",
   "execution_count": 21,
   "id": "77399b5f-70f0-46ef-be64-90b16ad0da40",
   "metadata": {},
   "outputs": [
    {
     "name": "stdout",
     "output_type": "stream",
     "text": [
      "5\n",
      "4\n",
      "3\n",
      "2\n",
      "1\n",
      "0\n"
     ]
    }
   ],
   "source": [
    ">>> for i in range(5, -1, -1):\n",
    "...     print(i)\n",
    "...\n",
    "# 5\n",
    "# 4\n",
    "# 3\n",
    "# 2\n",
    "# 1\n",
    "# 0"
   ]
  },
  {
   "cell_type": "code",
   "execution_count": 23,
   "id": "516f4b4c-9912-4008-a8aa-91b264faf27b",
   "metadata": {},
   "outputs": [],
   "source": [
    ">>> for i in [1, 2, 3, 4, 5]:\n",
    "...    if i == 3:\n",
    "...        break\n",
    "... else:\n",
    "...    print(\"only executed when no item is equal to 3\")"
   ]
  },
  {
   "cell_type": "code",
   "execution_count": 24,
   "id": "41e6fa2e-b769-4014-adbc-dc7c2331de40",
   "metadata": {},
   "outputs": [
    {
     "name": "stdout",
     "output_type": "stream",
     "text": [
      "1 2 3 4 5 "
     ]
    }
   ],
   "source": [
    "x = 1\n",
    "while x <= 5: print(x,end=\" \"); x = x+1"
   ]
  },
  {
   "cell_type": "code",
   "execution_count": null,
   "id": "0ac4e9be-f4c5-4768-b426-36403e21a088",
   "metadata": {},
   "outputs": [],
   "source": []
  }
 ],
 "metadata": {
  "kernelspec": {
   "display_name": "Python 3 (ipykernel)",
   "language": "python",
   "name": "python3"
  },
  "language_info": {
   "codemirror_mode": {
    "name": "ipython",
    "version": 3
   },
   "file_extension": ".py",
   "mimetype": "text/x-python",
   "name": "python",
   "nbconvert_exporter": "python",
   "pygments_lexer": "ipython3",
   "version": "3.11.4"
  }
 },
 "nbformat": 4,
 "nbformat_minor": 5
}
