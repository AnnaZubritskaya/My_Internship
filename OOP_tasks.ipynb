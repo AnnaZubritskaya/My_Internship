{
 "cells": [
  {
   "cell_type": "code",
   "execution_count": 1,
   "id": "d4255302-f102-4111-9bc6-792c9a537c09",
   "metadata": {},
   "outputs": [
    {
     "name": "stdout",
     "output_type": "stream",
     "text": [
      "{'id': '1', 'name': 'Bob', 'department': 'Science'}\n"
     ]
    }
   ],
   "source": [
    "# 3. Write a Python program to create an instance of a specified class and display the namespace of the said instance.\n",
    "class Employer:\n",
    "    def __init__(self, id_emp, name_emp, department_emp):\n",
    "        self.id=id_emp\n",
    "        self.name=name_emp\n",
    "        self.department=department_emp\n",
    "\n",
    "man=Employer('1', 'Bob', 'Science')\n",
    "print(man.__dict__)"
   ]
  },
  {
   "cell_type": "code",
   "execution_count": 6,
   "id": "a4177cf1-02cc-4d36-a63c-5e41659ec154",
   "metadata": {},
   "outputs": [
    {
     "name": "stdout",
     "output_type": "stream",
     "text": [
      "\n",
      "Student ID: 1\n",
      "Student name: Bob\n",
      "\n",
      "Student ID: 2\n",
      "Student name: Bob\n",
      "\n",
      "Student name: Bob\n",
      "Student class: Class1\n"
     ]
    }
   ],
   "source": [
    "# 6 Write a Python function student_data () that will print the ID of a student (student_id). If the user passes an argument student_name or student_class the function will print the student name and class.\n",
    "def student_data(student_id, **args):\n",
    "    print(f'\\nStudent ID: {student_id}')\n",
    "    if 'student_name' in args:\n",
    "        print(f\"Student name: {args['student_name']}\")\n",
    "    \n",
    "    if 'student_name' and 'student_class' in args:\n",
    "            print(f\"\\nStudent name: {args['student_name']}\")\n",
    "            print(f\"Student class: {args['student_class']}\")\n",
    "\n",
    " \n",
    "student_data(student_id='1', student_name='Bob')\n",
    "\n",
    "student_data(student_id='2', student_name='Bob', student_class ='Class1')\n"
   ]
  },
  {
   "cell_type": "code",
   "execution_count": 7,
   "id": "f64cc6bf-a1c8-4734-9b0c-923a4fab783d",
   "metadata": {},
   "outputs": [
    {
     "name": "stdout",
     "output_type": "stream",
     "text": [
      "True\n",
      "False\n",
      "True\n",
      "False\n",
      "True\n",
      "True\n"
     ]
    }
   ],
   "source": [
    "# 8 Write a Python program to create two empty classes, Student and Marks. Now create some instances and check whether they are instances of the said classes or not. \n",
    "#Also, check whether the said classes are subclasses of the built-in object class or not.\n",
    "class Student:\n",
    "    pass \n",
    "class Marks:\n",
    "    pass \n",
    "    \n",
    "student = Student()\n",
    "marks = Marks()\n",
    "\n",
    "print(isinstance(student, Student))\n",
    "print(isinstance(marks, Student))\n",
    "\n",
    "print(isinstance(marks, Marks)) \n",
    "print(isinstance(student, Marks))\n",
    "\n",
    "print(issubclass(Student, object))\n",
    "print(issubclass(Marks, object)) \n"
   ]
  },
  {
   "cell_type": "code",
   "execution_count": 11,
   "id": "a4e47e1b-1b0d-47a3-8731-af3c248cdb02",
   "metadata": {},
   "outputs": [
    {
     "name": "stdout",
     "output_type": "stream",
     "text": [
      "Student name: Bob\n",
      "Marks: 100\n",
      "Student Name: John\n",
      "Marks: 10\n"
     ]
    }
   ],
   "source": [
    "# 9 Write a Python class named Student with two attributes student_name, marks. Modify the attribute values of the said class and print the original and modified values of the said attributes.\n",
    "\n",
    "class Student:\n",
    "    student_name = 'Bob'\n",
    "    marks = 100  \n",
    "    \n",
    "print(f\"Student name: {getattr(Student, 'student_name')}\")\n",
    "print(f\"Marks: {getattr(Student, 'marks')}\")\n",
    "\n",
    "setattr(Student, 'student_name', 'John')\n",
    "setattr(Student, 'marks', 10) \n",
    "\n",
    "print(f\"Student Name: {getattr(Student, 'student_name')}\")\n",
    "print(f\"Marks: {getattr(Student, 'marks')}\")\n"
   ]
  },
  {
   "cell_type": "code",
   "execution_count": null,
   "id": "69c9335e-cf70-423c-aa64-5e48ade2cd68",
   "metadata": {},
   "outputs": [],
   "source": [
    "\"\"\"\n",
    "1. Write a Python class Employee with attributes like emp_id, emp_name, emp_salary, and emp_department and methods like calculate_emp_salary, emp_assign_department, and print_employee_details.\n",
    "Sample Employee Data:\n",
    "\"ADAMS\", \"E7876\", 50000, \"ACCOUNTING\"\n",
    "\"JONES\", \"E7499\", 45000, \"RESEARCH\"\n",
    "\"MARTIN\", \"E7900\", 50000, \"SALES\"\n",
    "\"SMITH\", \"E7698\", 55000, \"OPERATIONS\"\n",
    "Use 'assign_department' method to change the department of an employee.\n",
    "Use 'print_employee_details' method to print the details of an employee.\n",
    "Use 'calculate_emp_salary' method takes two arguments: salary and hours_worked, which is the number of hours worked by the employee. If the number of hours worked is more than 50, the method computes overtime and adds it to the salary. Overtime is calculated as following formula:\n",
    "overtime = hours_worked - 50\n",
    "Overtime amount = (overtime * (salary / 50))\n",
    "\"\"\""
   ]
  },
  {
   "cell_type": "code",
   "execution_count": 17,
   "id": "5e0159c5-6e42-4a0f-a4ab-7e5dd2bec784",
   "metadata": {},
   "outputs": [
    {
     "name": "stdout",
     "output_type": "stream",
     "text": [
      "Name: ADAMS \n",
      "ID: E7876 \n",
      "Salary: 55000 \n",
      "Department: ACCOUNTING\n",
      "\n",
      "\n",
      "Name: ADAMS \n",
      "ID: E7876 \n",
      "Salary: 66000.0 \n",
      "Department: ACCOUNTING\n",
      "\n",
      "\n",
      "Name: ADAMS \n",
      "ID: E7876 \n",
      "Salary: 66000.0 \n",
      "Department: RESEARCH\n"
     ]
    }
   ],
   "source": [
    "class Employee:\n",
    "    def __init__(self, id, name, salary, dep):\n",
    "        self.emp_id=id\n",
    "        self.emp_name=name\n",
    "        self.emp_salary=salary\n",
    "        self.emp_department=dep\n",
    "        \n",
    "    def calculate_emp_salary(self, hours_worked):\n",
    "        if hours_worked>50:\n",
    "            overtime = hours_worked - 50\n",
    "            overtime_amount = (overtime * (self.emp_salary / 50))\n",
    "            self.emp_salary+=overtime_amount\n",
    "            \n",
    "    def emp_assign_department(self, dep):\n",
    "         self.emp_department=dep\n",
    "\n",
    "    def print_employee_details(self):\n",
    "        print(f\"Name: {self.emp_name} \\nID: {self.emp_id} \\nSalary: {self.emp_salary} \\nDepartment: {self.emp_department}\")\n",
    "\n",
    "man=Employee(\"E7876\", \"ADAMS\", 55000, \"ACCOUNTING\")\n",
    "man.print_employee_details()\n",
    "print(\"\\n\")\n",
    "man.calculate_emp_salary(60)\n",
    "man.print_employee_details()\n",
    "print(\"\\n\")\n",
    "man.emp_assign_department(\"RESEARCH\")\n",
    "man.print_employee_details()\n",
    "        \n",
    "        "
   ]
  },
  {
   "cell_type": "code",
   "execution_count": null,
   "id": "840e6b51-9bd7-4a1a-8172-521bdb56d833",
   "metadata": {},
   "outputs": [],
   "source": [
    "\"\"\"\n",
    "4. Write a Python class Inventory with attributes like item_id, item_name, stock_count, and price, and methods like add_item, update_item, and check_item_details.\n",
    "Use a dictionary to store the item details, where the key is the item_id and the value is a dictionary containing the item_name, stock_count, and price.\n",
    "\"\"\""
   ]
  },
  {
   "cell_type": "code",
   "execution_count": 20,
   "id": "488db87a-0f0d-4891-9ff4-56e29e12dd90",
   "metadata": {},
   "outputs": [
    {
     "name": "stdout",
     "output_type": "stream",
     "text": [
      "Name: name1 \n",
      "Stock: 3 \n",
      "Price: 10\n",
      "Name: name1 \n",
      "Stock: 2 \n",
      "Price: 11\n"
     ]
    }
   ],
   "source": [
    "class Inventory:\n",
    "    #def __init__(self, id, name, count, price):\n",
    "    #    self.item_id=id\n",
    "    #    self.item_name=name\n",
    "    #    self.stock_count=count\n",
    "    #    self.price=price\n",
    "    def __init__(self):\n",
    "        self.inventory={}\n",
    "\n",
    "    def add_item(self, item_id, item_name, stock_count, price):\n",
    "        #self.inventory.update({item_id: [item_name, stock_count, price]})\n",
    "        self.inventory[item_id] = {\"item_name\": item_name, \"stock_count\": stock_count, \"price\": price}\n",
    "\n",
    "    def update_item(self, item_id, stock_count, price):\n",
    "        if item_id in self.inventory:\n",
    "            self.inventory[item_id][\"stock_count\"] = stock_count\n",
    "            self.inventory[item_id][\"price\"] = price\n",
    "        else:\n",
    "            print(\"Item not found.\")\n",
    "\n",
    "    def check_item_details(self, id):\n",
    "        if id in self.inventory:\n",
    "            print(f\"Name: {self.inventory[id]['item_name']} \\nStock: {self.inventory[id]['stock_count']} \\nPrice: {self.inventory[id]['price']}\")\n",
    "        else:\n",
    "            return \"Item not found in inventory.\"\n",
    "\n",
    "inv=Inventory()\n",
    "inv.add_item(1, 'name1', 3, 10)\n",
    "inv.check_item_details(1)\n",
    "\n",
    "inv.update_item(1, 2, 11)\n",
    "inv.check_item_details(1)\n",
    "\n",
    "        "
   ]
  },
  {
   "cell_type": "code",
   "execution_count": null,
   "id": "1cb7bf23-93c1-4d77-b5dd-94fef73930d5",
   "metadata": {},
   "outputs": [],
   "source": []
  }
 ],
 "metadata": {
  "kernelspec": {
   "display_name": "Python 3 (ipykernel)",
   "language": "python",
   "name": "python3"
  },
  "language_info": {
   "codemirror_mode": {
    "name": "ipython",
    "version": 3
   },
   "file_extension": ".py",
   "mimetype": "text/x-python",
   "name": "python",
   "nbconvert_exporter": "python",
   "pygments_lexer": "ipython3",
   "version": "3.11.4"
  }
 },
 "nbformat": 4,
 "nbformat_minor": 5
}
