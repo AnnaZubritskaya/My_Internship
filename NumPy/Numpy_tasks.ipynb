{
 "cells": [
  {
   "cell_type": "code",
   "execution_count": 6,
   "id": "b5c13aae-c6b1-4dae-8b0e-30b4174cb262",
   "metadata": {},
   "outputs": [
    {
     "name": "stdout",
     "output_type": "stream",
     "text": [
      "A zero element found.\n",
      "A zero element found.\n"
     ]
    }
   ],
   "source": [
    "#Basic\n",
    "#3. Write a NumPy program to test whether none of the elements of a given array are zero. \n",
    "\n",
    "import numpy as np\n",
    "\n",
    "arr=np.array([1, 2, 0, 1, 5])\n",
    "\n",
    "if 0 in arr:\n",
    "    print(\"A zero element found.\")\n",
    "else: \n",
    "    print(\"No zero element found.\")\n",
    "\n",
    "if all(arr):\n",
    "    print(\"No zero element found.\")\n",
    "else: \n",
    "    print(\"A zero element found.\")\n"
   ]
  },
  {
   "cell_type": "code",
   "execution_count": 11,
   "id": "4de7cd36-0ce4-41c2-a707-0d42c73ff958",
   "metadata": {},
   "outputs": [
    {
     "name": "stdout",
     "output_type": "stream",
     "text": [
      "[0 0 0 0 0 0 0 0 0 0]\n",
      "[1 1 1 1 1 1 1 1 1 1]\n",
      "[5 5 5 5 5 5 5 5 5 5]\n"
     ]
    }
   ],
   "source": [
    "#13. Write a NumPy program to create an array of 10 zeros, 10 ones, and 10 fives. \n",
    "\n",
    "arr=np.zeros(10, dtype='i')\n",
    "print(arr)\n",
    "\n",
    "arr=np.ones(10, dtype='i')\n",
    "print(arr)\n",
    "\n",
    "arr=np.ones(10, dtype='i')*5\n",
    "print(arr)"
   ]
  },
  {
   "cell_type": "code",
   "execution_count": 12,
   "id": "aabef02a-5380-48b9-b612-47844a4572d3",
   "metadata": {},
   "outputs": [
    {
     "data": {
      "text/plain": [
       "array([30, 31, 32, 33, 34, 35, 36, 37, 38, 39, 40, 41, 42, 43, 44, 45, 46,\n",
       "       47, 48, 49, 50, 51, 52, 53, 54, 55, 56, 57, 58, 59, 60, 61, 62, 63,\n",
       "       64, 65, 66, 67, 68, 69, 70])"
      ]
     },
     "execution_count": 12,
     "metadata": {},
     "output_type": "execute_result"
    }
   ],
   "source": [
    "#14. Write a NumPy program to create an array of integers from 30 to 70.\n",
    "\n",
    "arr=np.arange(30,71)\n",
    "arr"
   ]
  },
  {
   "cell_type": "code",
   "execution_count": 13,
   "id": "c8f7c45c-c9ed-4974-91df-b9a62d879c20",
   "metadata": {},
   "outputs": [
    {
     "data": {
      "text/plain": [
       "array([30, 32, 34, 36, 38, 40, 42, 44, 46, 48, 50, 52, 54, 56, 58, 60, 62,\n",
       "       64, 66, 68, 70])"
      ]
     },
     "execution_count": 13,
     "metadata": {},
     "output_type": "execute_result"
    }
   ],
   "source": [
    "#15.Write a NumPy program to create an array of all even integers from 30 to 70.\n",
    "\n",
    "arr=np.arange(30,71,2)\n",
    "arr"
   ]
  },
  {
   "cell_type": "code",
   "execution_count": 23,
   "id": "4b55c628-a0d8-4bcc-9d2b-8842ec9ca627",
   "metadata": {},
   "outputs": [
    {
     "data": {
      "text/plain": [
       "0.6969211342800223"
      ]
     },
     "execution_count": 23,
     "metadata": {},
     "output_type": "execute_result"
    }
   ],
   "source": [
    "#17. Write a NumPy program to generate a random number between 0 and 1.\n",
    "\n",
    "import random as r\n",
    "\n",
    "a=r.random()\n",
    "a"
   ]
  },
  {
   "cell_type": "code",
   "execution_count": 26,
   "id": "273246f9-fa9e-4939-91ce-7b7bf144210f",
   "metadata": {},
   "outputs": [
    {
     "data": {
      "text/plain": [
       "array([ 0.225226  ,  0.04058345,  0.6237929 , -0.65920945, -1.14042019,\n",
       "       -0.9086903 , -0.25281726, -0.46292231, -0.37777818, -0.24480998,\n",
       "       -1.92131499, -0.10813339,  2.31108644, -0.90152718,  0.65838983])"
      ]
     },
     "execution_count": 26,
     "metadata": {},
     "output_type": "execute_result"
    }
   ],
   "source": [
    "#18. Write a NumPy program to generate an array of 15 random numbers from a standard normal distribution.\n",
    "\n",
    "a=np.random.normal(0, 1, 15)\n",
    "a"
   ]
  },
  {
   "cell_type": "code",
   "execution_count": 29,
   "id": "826ff597-f357-4423-898a-f0ff9b23c435",
   "metadata": {},
   "outputs": [
    {
     "name": "stdout",
     "output_type": "stream",
     "text": [
      "[15 16 17 18 19 20 21 22 23 24 25 26 27 28 29 30 31 32 33 34 35 36 37 38\n",
      " 39 40 41 42 43 44 45 46 47 48 49 50 51 52 53 54]\n",
      "[16 17 18 19 20 21 22 23 24 25 26 27 28 29 30 31 32 33 34 35 36 37 38 39\n",
      " 40 41 42 43 44 45 46 47 48 49 50 51 52 53]\n"
     ]
    }
   ],
   "source": [
    "#19. Write a NumPy program to create a vector with values ranging from 15 to 55 and print all values except the first and last.\n",
    "\n",
    "arr=np.arange(15, 55)\n",
    "print(arr)\n",
    "print(arr[1:-1])"
   ]
  },
  {
   "cell_type": "code",
   "execution_count": 38,
   "id": "ffbb523b-388c-463e-8ae6-0a79157778b3",
   "metadata": {},
   "outputs": [
    {
     "name": "stdout",
     "output_type": "stream",
     "text": [
      "[[ 0  1  2  3]\n",
      " [ 4  5  6  7]\n",
      " [ 8  9 10 11]]\n",
      "0 1 2 3 4 5 6 7 8 9 10 11 "
     ]
    }
   ],
   "source": [
    "#20. Write a NumPy program to create a 3X4 array and iterate over it.\n",
    "\n",
    "a = np.arange(0,12).reshape((3, 4))\n",
    "print(a)\n",
    "\n",
    "\n",
    "for i in np.nditer(a):\n",
    "    print(i, end=\" \")\n"
   ]
  },
  {
   "cell_type": "code",
   "execution_count": 42,
   "id": "96ba07aa-e193-4572-8259-b289616672fb",
   "metadata": {},
   "outputs": [
    {
     "name": "stdout",
     "output_type": "stream",
     "text": [
      "[ 0  1  2  3  4  5  6  7  8  9 10 11 12 13 14 15 16 17 18 19 20]\n",
      "[  0   1   2   3   4   5   6   7   8  -9 -10 -11 -12 -13 -14 -15  16  17\n",
      "  18  19  20]\n"
     ]
    }
   ],
   "source": [
    "#22. Write a NumPy program to create a vector with values from 0 to 20 and change the sign of the numbers in the range from 9 to 15.\n",
    "\n",
    "arr=np.arange(0,21)\n",
    "print(arr)\n",
    "\n",
    "arr[(arr>=9)&(arr<=15)]*=-1\n",
    "print(arr)"
   ]
  },
  {
   "cell_type": "code",
   "execution_count": 44,
   "id": "e9292029-8d11-43fe-8fc9-aab717a0710f",
   "metadata": {},
   "outputs": [
    {
     "data": {
      "text/plain": [
       "array([1, 3, 1, 6, 4])"
      ]
     },
     "execution_count": 44,
     "metadata": {},
     "output_type": "execute_result"
    }
   ],
   "source": [
    "#23. Write a NumPy program to create a vector of length 5 filled with arbitrary integers from 0 to 10.\n",
    "\n",
    "arr=np.random.randint(0, 10, 5)\n",
    "arr"
   ]
  },
  {
   "cell_type": "code",
   "execution_count": null,
   "id": "eb04e427-e1f9-4464-af0b-02a1dd7558d3",
   "metadata": {},
   "outputs": [],
   "source": [
    "\"\"\"\n",
    "NumPy Array Object tasks\n",
    "\"\"\""
   ]
  },
  {
   "cell_type": "code",
   "execution_count": 45,
   "id": "c8f5ef2b-f27d-47e8-8a6b-6116ec699dca",
   "metadata": {},
   "outputs": [
    {
     "data": {
      "text/plain": [
       "array([ 12.23,  13.32, 100.  ,  36.32])"
      ]
     },
     "execution_count": 45,
     "metadata": {},
     "output_type": "execute_result"
    }
   ],
   "source": [
    "#2. Write a NumPy program to convert a list of numeric values into a one-dimensional NumPy array.\n",
    "#Expected Output:\n",
    "#Original List: [12.23, 13.32, 100, 36.32]\n",
    "#One-dimensional NumPy array: [ 12.23 13.32 100. 36.32]\n",
    "\n",
    "mylist=[12.23, 13.32, 100, 36.32]\n",
    "arr=np.array(mylist)\n",
    "arr"
   ]
  },
  {
   "cell_type": "code",
   "execution_count": 47,
   "id": "d7a2ea12-6c10-4fb8-a9ad-50ade2a17d28",
   "metadata": {},
   "outputs": [
    {
     "data": {
      "text/plain": [
       "array([[ 2,  3,  4],\n",
       "       [ 5,  6,  7],\n",
       "       [ 8,  9, 10]])"
      ]
     },
     "execution_count": 47,
     "metadata": {},
     "output_type": "execute_result"
    }
   ],
   "source": [
    "#3.Write a NumPy program to create a 3x3 matrix with values ranging from 2 to 10.\n",
    "#Expected Output:\n",
    "#[[ 2 3 4]\n",
    "#[ 5 6 7]\n",
    "#[ 8 9 10]]\n",
    "\n",
    "arr=np.arange(2,11).reshape(3,3)\n",
    "arr"
   ]
  },
  {
   "cell_type": "code",
   "execution_count": 50,
   "id": "527819fc-484c-4651-ad06-29dd72a18e63",
   "metadata": {},
   "outputs": [
    {
     "name": "stdout",
     "output_type": "stream",
     "text": [
      "[0. 0. 0. 0. 0. 0. 0. 0. 0. 0.]\n"
     ]
    },
    {
     "data": {
      "text/plain": [
       "array([ 0.,  0.,  0.,  0.,  0.,  0., 11.,  0.,  0.,  0.])"
      ]
     },
     "execution_count": 50,
     "metadata": {},
     "output_type": "execute_result"
    }
   ],
   "source": [
    "#4. Write a NumPy program to create a null vector of size 10 and update the sixth value to 11.\n",
    "#[ 0. 0. 0. 0. 0. 0. 0. 0. 0. 0.]\n",
    "#Update sixth value to 11\n",
    "#[ 0. 0. 0. 0. 0. 0. 11. 0. 0. 0.]\n",
    "\n",
    "arr=np.zeros(10)\n",
    "print(arr)\n",
    "\n",
    "arr[6]=11\n",
    "arr"
   ]
  },
  {
   "cell_type": "code",
   "execution_count": 53,
   "id": "aaf78cb3-89e7-4eb7-abf6-fb622275b976",
   "metadata": {},
   "outputs": [
    {
     "name": "stdout",
     "output_type": "stream",
     "text": [
      "[12 13 14 15 16 17 18 19 20 21 22 23 24 25 26 27 28 29 30 31 32 33 34 35\n",
      " 36 37]\n",
      "[37 36 35 34 33 32 31 30 29 28 27 26 25 24 23 22 21 20 19 18 17 16 15 14\n",
      " 13 12]\n"
     ]
    }
   ],
   "source": [
    "#6. Write a NumPy program to reverse an array (the first element becomes the last).\n",
    "#Original array:\n",
    "#[12 13 14 15 16 17 18 19 20 21 22 23 24 25 26 27 28 29 30 31 32 33 34 35 36 37]\n",
    "#Reverse array:\n",
    "#[37 36 35 34 33 32 31 30 29 28 27 26 25 24 23 22 21 20 19 18 17 16 15 14 13 12]\n",
    "\n",
    "arr=np.arange(12,38)\n",
    "print(arr)\n",
    "\n",
    "arr=arr[::-1]\n",
    "print(arr)"
   ]
  },
  {
   "cell_type": "code",
   "execution_count": 55,
   "id": "25e5f4db-8332-42da-99a4-901097e6ddad",
   "metadata": {},
   "outputs": [
    {
     "name": "stdout",
     "output_type": "stream",
     "text": [
      "[1. 2. 3. 4.]\n"
     ]
    }
   ],
   "source": [
    "#7. Write a NumPy program to convert an array to a floating type.\n",
    "#Sample output:\n",
    "#Original array\n",
    "#[1, 2, 3, 4]\n",
    "#Array converted to a float type:\n",
    "#[ 1. 2. 3. 4.]\n",
    "\n",
    "arr=np.array([1,2,3,4])\n",
    "arr=np.asfarray(arr)\n",
    "print(arr)"
   ]
  },
  {
   "cell_type": "code",
   "execution_count": 57,
   "id": "a0a31eb9-b720-42f0-80fb-c37bcad2f7f6",
   "metadata": {},
   "outputs": [
    {
     "name": "stdout",
     "output_type": "stream",
     "text": [
      "List: \n",
      "[1 2 3 4 5 6 7 8]\n",
      "Tuple: \n",
      "[[8 4 6]\n",
      " [1 2 3]]\n"
     ]
    }
   ],
   "source": [
    "#11. Write a NumPy program to convert a list and tuple into arrays.\n",
    "#List to array:\n",
    "#[1 2 3 4 5 6 7 8]\n",
    "#Tuple to array:\n",
    "#[[8 4 6]\n",
    "#[1 2 3]]\n",
    "\n",
    "mylist = [1, 2, 3, 4, 5, 6, 7, 8]\n",
    "print(\"List: \")\n",
    "print(np.asarray(mylist))\n",
    "mytuple = ([8, 4, 6], [1, 2, 3])\n",
    "print(\"Tuple: \")\n",
    "print(np.asarray(mytuple))"
   ]
  },
  {
   "cell_type": "code",
   "execution_count": 58,
   "id": "a8e7f4ef-11da-45f3-bfe3-fcba35f0ce70",
   "metadata": {},
   "outputs": [
    {
     "data": {
      "text/plain": [
       "array([10, 20, 30, 40, 50, 60, 70, 80, 90])"
      ]
     },
     "execution_count": 58,
     "metadata": {},
     "output_type": "execute_result"
    }
   ],
   "source": [
    "#12. Write a NumPy program to append values to the end of an array.\n",
    "#Expected Output:\n",
    "#Original array:\n",
    "#[10, 20, 30]\n",
    "#After append values to the end of the array:\n",
    "#[10 20 30 40 50 60 70 80 90]\n",
    "\n",
    "arr=np.array([10, 20, 30])\n",
    "arr=np.append(arr, [40,50,60,70,80,90])\n",
    "arr"
   ]
  },
  {
   "cell_type": "code",
   "execution_count": 63,
   "id": "38eeb7ba-4002-4408-bbf8-759393a1cf7f",
   "metadata": {},
   "outputs": [
    {
     "name": "stdout",
     "output_type": "stream",
     "text": [
      "[[6.22176287e-312 3.16202013e-322 0.00000000e+000 0.00000000e+000]\n",
      " [1.06099790e-312 2.90304592e+180 1.50128041e-076 1.49114259e+161]\n",
      " [4.76533936e-038 5.49607877e+170 1.37104047e-071 2.23254661e-052]]\n",
      "[[6 6 6]\n",
      " [6 6 6]\n",
      " [6 6 6]]\n"
     ]
    }
   ],
   "source": [
    "#13. Write a NumPy program to create an empty and full array.\n",
    "#Expected Output:\n",
    "#[ 6.93270651e-310 1.59262180e-316 6.93270559e-310 6.93270665e-310]\n",
    "#[ 6.93270667e-310 6.93270671e-310 6.93270668e-310 6.93270483e-310]\n",
    "#[ 6.93270668e-310 6.93270671e-310 6.93270370e-310 6.93270488e-310]]\n",
    "#[[6 6 6]\n",
    "#[6 6 6]\n",
    "#[6 6 6]]\n",
    "\n",
    "arr=np.empty((3,4))\n",
    "print(arr)\n",
    "\n",
    "arr=np.full((3,3), 6)\n",
    "print(arr)"
   ]
  },
  {
   "cell_type": "code",
   "execution_count": 64,
   "id": "bf4d99ce-4762-4adc-8192-31e1560d3a40",
   "metadata": {},
   "outputs": [
    {
     "name": "stdout",
     "output_type": "stream",
     "text": [
      "[ True False False  True False]\n"
     ]
    }
   ],
   "source": [
    "#17. Write a NumPy program to test whether each element of a 1-D array is also present in a second array.\n",
    "#Expected Output:\n",
    "#Array1: [ 0 10 20 40 60]\n",
    "#Array2: [0, 40]\n",
    "#Compare each element of array1 and array2\n",
    "#[ True False False True False]\n",
    "\n",
    "arr1=np.array([0,10,20,40,60])\n",
    "arr2=np.array([0,40])\n",
    "\n",
    "print(np.in1d(arr1, arr2))"
   ]
  },
  {
   "cell_type": "code",
   "execution_count": 65,
   "id": "5275dbea-7466-4ad1-8bc6-13e01764a7f0",
   "metadata": {},
   "outputs": [
    {
     "name": "stdout",
     "output_type": "stream",
     "text": [
      "[10 40]\n"
     ]
    }
   ],
   "source": [
    "#18. Write a NumPy program to find common values between two arrays.\n",
    "#Expected Output:\n",
    "#Array1: [ 0 10 20 40 60]\n",
    "#Array2: [10, 30, 40]\n",
    "#Common values between two arrays:\n",
    "#[10 40]\n",
    "\n",
    "arr1=np.array([0,10,20,40,60])\n",
    "arr2=np.array([10,30,40])\n",
    "\n",
    "print(np.intersect1d(arr1, arr2))"
   ]
  },
  {
   "cell_type": "code",
   "execution_count": 67,
   "id": "651416f9-c924-4937-83bc-b6f718fb6c58",
   "metadata": {},
   "outputs": [
    {
     "name": "stdout",
     "output_type": "stream",
     "text": [
      "[10 10 20 20 30 30]\n",
      "[10 20 30]\n",
      "[[1 1]\n",
      " [2 3]]\n",
      "[1 2 3]\n"
     ]
    }
   ],
   "source": [
    "#19. Write a NumPy program to get the unique elements of an array.\n",
    "#Expected Output:\n",
    "#Original array:\n",
    "#[10 10 20 20 30 30]\n",
    "#Unique elements of the above array:\n",
    "#[10 20 30]\n",
    "#Original array:\n",
    "#[[1 1]\n",
    "#[2 3]]\n",
    "#Unique elements of the above array:\n",
    "#[1 2 3]\n",
    "\n",
    "arr = np.array([10, 10, 20, 20, 30, 30])\n",
    "print(arr)\n",
    "\n",
    "print(np.unique(arr))\n",
    "\n",
    "arr = np.array([[1, 1], [2, 3]])\n",
    "print(arr)\n",
    "\n",
    "print(np.unique(arr))\n"
   ]
  },
  {
   "cell_type": "code",
   "execution_count": null,
   "id": "5ac93e23-2749-48b9-bd92-ce223c3d367e",
   "metadata": {},
   "outputs": [],
   "source": [
    "\"\"\"\n",
    "NumPy Linear Algebra\n",
    "\"\"\""
   ]
  },
  {
   "cell_type": "code",
   "execution_count": 68,
   "id": "59a9b068-7fe0-44a9-b13d-7ab302e24ae1",
   "metadata": {},
   "outputs": [
    {
     "name": "stdout",
     "output_type": "stream",
     "text": [
      "[[1, 0], [0, 1]]\n",
      "[[1, 2], [3, 4]]\n",
      "[[1 2]\n",
      " [3 4]]\n"
     ]
    }
   ],
   "source": [
    "#1. Write a NumPy program to compute the multiplication of two given matrixes.\n",
    "\n",
    "m1 = [[1, 0], [0, 1]]\n",
    "m2 = [[1, 2], [3, 4]]\n",
    "\n",
    "print(m1)\n",
    "print(m2)\n",
    "\n",
    "res = np.dot(m1, m2)\n",
    "print(res)"
   ]
  },
  {
   "cell_type": "code",
   "execution_count": null,
   "id": "a6af90ee-14c6-4adf-afbb-b51f580f0c58",
   "metadata": {},
   "outputs": [],
   "source": [
    "\"\"\"\n",
    "NumPy: Random\n",
    "\"\"\""
   ]
  },
  {
   "cell_type": "code",
   "execution_count": 69,
   "id": "e2362698-15a4-47e3-9d73-b6c6e5fcbdea",
   "metadata": {},
   "outputs": [
    {
     "data": {
      "text/plain": [
       "array([-0.67592339, -0.69505165, -0.91702211,  0.69970336, -0.92074815])"
      ]
     },
     "execution_count": 69,
     "metadata": {},
     "output_type": "execute_result"
    }
   ],
   "source": [
    "#1. Write a NumPy program to generate five random numbers from the normal distribution.\n",
    "#Expected Output:\n",
    "#[-0.43262625 -1.10836787 1.80791413 0.69287463 -0.53742101]\n",
    "\n",
    "arr=np.random.normal(0,1,5)\n",
    "arr"
   ]
  },
  {
   "cell_type": "code",
   "execution_count": 70,
   "id": "1536bfb7-a21f-4884-a938-397ec4b7f12e",
   "metadata": {},
   "outputs": [
    {
     "data": {
      "text/plain": [
       "array([12, 22, 20, 11, 29, 25])"
      ]
     },
     "execution_count": 70,
     "metadata": {},
     "output_type": "execute_result"
    }
   ],
   "source": [
    "#2. Write a NumPy program to generate six random integers between 10 and 30.\n",
    "#Expected Output:\n",
    "#[20 28 27 17 28 29]\n",
    "\n",
    "arr=np.random.randint(10,30, 6)\n",
    "arr"
   ]
  },
  {
   "cell_type": "code",
   "execution_count": 71,
   "id": "8a5f465c-06b0-40db-b7a3-b76d8613631a",
   "metadata": {},
   "outputs": [
    {
     "data": {
      "text/plain": [
       "array([[[ 0.65745659, -0.41967052, -0.04401603],\n",
       "        [-0.41141543, -0.98622045, -0.64857424],\n",
       "        [ 1.21573801,  0.96723508, -0.60495857]],\n",
       "\n",
       "       [[-0.81080114,  0.58999448,  0.5955586 ],\n",
       "        [ 0.60651281,  0.84598123, -1.79737152],\n",
       "        [-0.60019677, -0.77865581, -1.44202583]],\n",
       "\n",
       "       [[ 0.64617108,  1.68890127, -0.86638922],\n",
       "        [ 0.00932375, -2.02030616,  0.20966016],\n",
       "        [-0.48608252, -1.01263059,  0.04596275]]])"
      ]
     },
     "execution_count": 71,
     "metadata": {},
     "output_type": "execute_result"
    }
   ],
   "source": [
    "#3. Write a NumPy program to create a 3x3x3 array with random values.\n",
    "#Expected Output:\n",
    "#[[[ 0.48941799 0.58722213 0.43453926]\n",
    "#[ 0.94497547 0.81081709 0.1510409 ]\n",
    "#[ 0.66657127 0.29494755 0.48047144]]\n",
    "#[[ 0.02287253 0.95232614 0.32264936]\n",
    "#[ 0.67009741 0.25458304 0.16290913]\n",
    "#[ 0.15520198 0.86826529 0.9679322 ]]\n",
    "#[[ 0.13503103 0.02042211 0.24683897]\n",
    "#[ 0.97852158 0.22374748 0.10798856]\n",
    "#[ 0.62032646 0.5893892 0.16958144]]]\n",
    "\n",
    "arr=np.random.normal(0,1,27).reshape(3,3,3)\n",
    "arr"
   ]
  },
  {
   "cell_type": "code",
   "execution_count": null,
   "id": "c5859a44-4f11-4fd5-823e-de29cc5580c4",
   "metadata": {},
   "outputs": [],
   "source": []
  }
 ],
 "metadata": {
  "kernelspec": {
   "display_name": "Python 3 (ipykernel)",
   "language": "python",
   "name": "python3"
  },
  "language_info": {
   "codemirror_mode": {
    "name": "ipython",
    "version": 3
   },
   "file_extension": ".py",
   "mimetype": "text/x-python",
   "name": "python",
   "nbconvert_exporter": "python",
   "pygments_lexer": "ipython3",
   "version": "3.11.4"
  }
 },
 "nbformat": 4,
 "nbformat_minor": 5
}
